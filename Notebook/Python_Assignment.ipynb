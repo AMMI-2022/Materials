{
  "cells": [
    {
      "cell_type": "markdown",
      "source": [
        "# Instructions:\n",
        "\n",
        "You have to submit the Notebook before the deadline: \n",
        "\n",
        "*   Before you start go the menu in the upper left corner and click file->Save a copy in Drive.\n",
        "*   Modify (add your name) the notebook name to **firstname_lastname_Python Tutorial (Introduction).ipynb** *italicized text*.\n",
        "*   You have to submit the Notebook before the deadline: \n",
        "\n",
        "\n"
      ],
      "metadata": {
        "id": "iZb6tymkU37E"
      }
    },
    {
      "cell_type": "markdown",
      "metadata": {
        "id": "Jj1V-fDffW2n"
      },
      "source": [
        "\n",
        "<b><p style=\"color:#FF0000\"> Note that NO built-in function and libraries (string ...) are allowed (except for the Exercise 0)  </p>"
      ]
    },
    {
      "cell_type": "markdown",
      "source": [
        "## Exercise 0: String Manipulation:\n"
      ],
      "metadata": {
        "id": "hi-Qld10URmd"
      }
    },
    {
      "cell_type": "markdown",
      "source": [
        "**Given a string s,wrtite a function that does the following:** \n",
        "(builtin string functions are allowed here)\n",
        "\n",
        "1-Removes all punctuations.\n",
        "\n",
        "2-Removes all the digits.\n",
        "\n",
        "3-Converts all the characters to lower case.\n",
        "\n",
        "4-Retrun the modified string and the number of remaining words in the string.\n",
        "\n",
        "5-Validate yur answers on the input:\n",
        "\n",
        " \"AIMS African Master's of Machine Intelligence (AMMI) Graduate Program 2022 for young Africans (Fully Funded). AMMI is a novel fully funded 1 year intensive graduate program that provides brilliant young Africans with SOTA training in machine learning and its apps.\""
      ],
      "metadata": {
        "id": "RfwNKPyCUJgy"
      }
    },
    {
      "cell_type": "code",
      "source": [
        "`def StringManipulation(s):\n",
        "  ##### WRITE YOUR CODE HERE #####\n",
        "  pass\n",
        "  #### END CODE ####"
      ],
      "metadata": {
        "id": "F-P72dybUICJ"
      },
      "execution_count": null,
      "outputs": []
    },
    {
      "cell_type": "markdown",
      "metadata": {
        "id": "c3MRNejYUFzk"
      },
      "source": [
        "## Exercise 1: Get the Length\n",
        "\n",
        "Write a Python function that accepts a string and calculate the number of upper case letters, lower case letters, and digits, then return the answer in a tuple (number of upper case letters, number of lower case letters, number of digits)\n",
        "\n",
        "<b> \n",
        "\n",
        "Example:\n",
        "\n",
        "s = \"AMMI was born in 2018\"\n",
        "\n",
        "output= (4, 9, 4)\n",
        "\n",
        "There are 4 upper case letters, 9 lower case letters, and 4 digits.\n",
        "\n",
        "</b> \n"
      ]
    },
    {
      "cell_type": "code",
      "execution_count": null,
      "metadata": {
        "id": "xsfkOaqyUDtM"
      },
      "outputs": [],
      "source": [
        "##### WRITE YOUR CODE HERE #####\n",
        "\n",
        "#### END CODE ####"
      ]
    },
    {
      "cell_type": "markdown",
      "metadata": {
        "id": "xda43N7_8nLD"
      },
      "source": [
        "## Exercise 2: Pairwise sum\n",
        "<b> \n",
        "Given two lists l1 and l2 of size 6, create a new list that contain the pairwise sum. \n",
        "\n",
        "Example: If we have l1 = [2, 3, 4] and l2 = [4, 5, 7], it should print l3 = [6, 8, 11]\n",
        "\n",
        "</b> \n"
      ]
    },
    {
      "cell_type": "code",
      "execution_count": null,
      "metadata": {
        "id": "B-KUjHYT84L-"
      },
      "outputs": [],
      "source": [
        "##### WRITE YOUR CODE HERE #####\n",
        "\n",
        "#### END CODE ####"
      ]
    },
    {
      "cell_type": "markdown",
      "metadata": {
        "id": "YcEL8_shOVeq"
      },
      "source": [
        "## Exercise 3: Intersection of two lists\n",
        "<b> \n",
        "Given two lists l1 and l2 of , print the intersection of the two lists. Lists don't contain duplicates.\n",
        "\n",
        "Example: If we have l1 = [1, 3, 2, 4] and l2 = [3, 4, 5, 7], it should print : 3,4\n",
        "\n",
        "</b> \n"
      ]
    },
    {
      "cell_type": "code",
      "execution_count": null,
      "metadata": {
        "id": "r3_vfQGdRmqM"
      },
      "outputs": [],
      "source": [
        "##### WRITE YOUR CODE HERE #####\n",
        "\n",
        "#### END CODE ####"
      ]
    },
    {
      "cell_type": "markdown",
      "metadata": {
        "id": "a1gT0sOSfW2o"
      },
      "source": [
        "## Exercise 4: Palindrome\n",
        "<b> Given a string s, check whether s is a palindrome. s is the palindrome if s is equal to its reverse.Using:\n",
        "- slicing in python\n",
        "- loop.</b>\n",
        "\n",
        "example : s='aba' is a palindrom\n",
        "s='abaa' isnot a palindrom"
      ]
    },
    {
      "cell_type": "code",
      "execution_count": null,
      "metadata": {
        "id": "1ve3wjjjfW2o"
      },
      "outputs": [],
      "source": [
        "##### WRITE YOUR CODE HERE #####\n",
        "\n",
        "#### END CODE ####"
      ]
    },
    {
      "cell_type": "markdown",
      "metadata": {
        "id": "BNFNRWJouk-L"
      },
      "source": [
        "## Exercise 5: Reverse a list\n",
        "<b> Given a list l, reverse l.\n",
        "Ex= [1,2,3,4,5] ==> [5,4,3,2,1]. In this case the operation has to be done in-place. Do not allow new memory space</b>\n",
        "\n",
        "DON't USE THE PYTHON INDEXING [::-1]"
      ]
    },
    {
      "cell_type": "code",
      "execution_count": null,
      "metadata": {
        "id": "cmxsQNPsug27"
      },
      "outputs": [],
      "source": [
        "##### WRITE YOUR CODE HERE #####\n",
        "\n",
        "#### END CODE ####"
      ]
    },
    {
      "cell_type": "markdown",
      "metadata": {
        "id": "Q0CPS9JxfW2n"
      },
      "source": [
        "## Exercise 6 Number of rotations\n",
        "You are given a rotated array which is rotated k times. The array was initially sorted. Write a function that finds the number k of rotations.\n",
        "\n",
        "Ex: [4, 5, 1, 2, 3] ==> k=2. The initial sorted array is then [1, 2, 3, 4, 5].\n",
        "First rotation: [5, 1, 2, 3, 4].\n",
        "Second rotation: [4, 5, 1, 2, 3].*italicized text*"
      ]
    },
    {
      "cell_type": "code",
      "execution_count": null,
      "metadata": {
        "id": "833oBA4pfW2o"
      },
      "outputs": [],
      "source": [
        "def find_k(arr):\n",
        "    \n",
        "  ##### WRITE YOUR CODE HERE #####\n",
        "  \n",
        "  #### END CODE ####    \n",
        "    pass\n",
        "    \n",
        "    \n",
        "    "
      ]
    },
    {
      "cell_type": "markdown",
      "metadata": {
        "id": "Y4flJQcQfW2p"
      },
      "source": [
        "## Exercise 7: Two sum\n",
        "<b> \n",
        "Given an integer n and a sorted list l, find two elements that sum up to n and their indexes. We can have many combinations but just output one of them.\n",
        "\n",
        "Example: l = [1,2,3,4], n = 5 ==> combination = 1,4\n",
        "</b> \n",
        "\n"
      ]
    },
    {
      "cell_type": "code",
      "execution_count": null,
      "metadata": {
        "colab": {
          "base_uri": "https://localhost:8080/"
        },
        "id": "EIs1Q7AyAIy4",
        "outputId": "7d4ba146-0d1e-4f95-e117-73fc0e0e5f93"
      },
      "outputs": [
        {
          "name": "stdout",
          "output_type": "stream",
          "text": [
            "no items\n"
          ]
        }
      ],
      "source": [
        "  ##### WRITE YOUR CODE HERE #####\n",
        "  \n",
        "  #### END CODE ####"
      ]
    },
    {
      "cell_type": "markdown",
      "metadata": {
        "id": "PT_F7zEvfW2q"
      },
      "source": [
        "## Exercise 8: Power of Two\n",
        "<b> Given an integer n, check whether n is a power of two. </b>\n"
      ]
    },
    {
      "cell_type": "code",
      "execution_count": null,
      "metadata": {
        "id": "iD0p_Zz0fW2q"
      },
      "outputs": [],
      "source": [
        "  ##### WRITE YOUR CODE HERE #####\n",
        "  \n",
        "  #### END CODE ####"
      ]
    },
    {
      "cell_type": "markdown",
      "source": [
        "## Exercise 9: Matrices Operations:\n"
      ],
      "metadata": {
        "id": "0yCyAm8ThEeT"
      }
    },
    {
      "cell_type": "markdown",
      "source": [
        "### a) Matrix Transpose:\n",
        "\n",
        "**Write a function MatTranspose that computes the Transpose of a 2D matrix A returns the result**\n",
        "\n",
        "**BONUS: Solve it with two methods (one of them should be list comprehension).**\n",
        "\n",
        "\n",
        "Validate you code using:\n",
        "\n",
        "```\n",
        "A = [ [1,2,3],[4,5,6] ]\n",
        "\n",
        "```"
      ],
      "metadata": {
        "id": "SV9RoTDfeqf9"
      }
    },
    {
      "cell_type": "code",
      "execution_count": null,
      "metadata": {
        "id": "cpmRcKta9XHC"
      },
      "outputs": [],
      "source": [
        "def MatTranspose(A):\n",
        "  ##### WRITE YOUR CODE HERE #####\n",
        "  pass\n",
        "  #### END CODE ####\n",
        "\n",
        "\n",
        "\n",
        "A = [ [1,2,3],[4,5,6] ]\n",
        "print(MatTranspose(A))\n",
        "assert MatTranspose(A)==[[1, 4], [2, 5], [3, 6]], \"Your implementation is not correct\"\n",
        "print(\"Congrats, It is working\")"
      ]
    },
    {
      "cell_type": "markdown",
      "source": [
        "### b) Matrices Multiplication:\n",
        "\n",
        "**Write a function MatMul that multiplies two 2D matrices A and B and returns the result**\n",
        "\n",
        "Validate you code using:\n",
        "\n",
        "```\n",
        "A = [ [1,2,3],[4,5,6] ]\n",
        "B = [ [4,5], [1,2], [0, 1] ] \n",
        "\n",
        "\n",
        "```"
      ],
      "metadata": {
        "id": "qpzUFMSPhOZ-"
      }
    },
    {
      "cell_type": "code",
      "source": [
        "def MatMul(A, B):\n",
        "  ##### WRITE YOUR CODE HERE #####\n",
        "\n",
        "\n",
        "  #### END CODE ####\n",
        "\n",
        "\n",
        "\n",
        "A = [ [1,2,3],[4,5,6] ]\n",
        "B = [ [4,5], [1,2], [0, 1] ] \n",
        "print(MatMul(A, B))\n",
        "assert MatMul(A, B)==[[6, 12], [21, 36]], \"Your implementation is not correct\"\n",
        "print(\"Congrats, It is working\")"
      ],
      "metadata": {
        "id": "s-nQdrW2gamS"
      },
      "execution_count": null,
      "outputs": []
    }
  ],
  "metadata": {
    "colab": {
      "collapsed_sections": [],
      "name": "Python Tutorial (Introduction).ipynb",
      "provenance": []
    },
    "kernelspec": {
      "display_name": "Python 3",
      "language": "python",
      "name": "python3"
    },
    "language_info": {
      "codemirror_mode": {
        "name": "ipython",
        "version": 3
      },
      "file_extension": ".py",
      "mimetype": "text/x-python",
      "name": "python",
      "nbconvert_exporter": "python",
      "pygments_lexer": "ipython3",
      "version": "3.8.5"
    }
  },
  "nbformat": 4,
  "nbformat_minor": 0
}