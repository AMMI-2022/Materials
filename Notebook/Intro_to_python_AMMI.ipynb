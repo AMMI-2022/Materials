{
  "cells": [
    {
      "cell_type": "markdown",
      "metadata": {
        "id": "MkI_Egiy4zVh"
      },
      "source": [
        "# **Introduction to Python Programming**\n",
        "\n",
        "* Keywords\n",
        "* Variables and initialisations\n",
        "* Variable types and casting\n",
        "* Basic maths operation\n",
        "* Conditional Statements\n",
        "* Loops in python (for/while)\n",
        "* Functions \n",
        "* Lambda Function\n",
        "\n"
      ]
    },
    {
      "cell_type": "code",
      "execution_count": null,
      "metadata": {
        "id": "SaYCJmpB8VQy",
        "outputId": "0c5a3035-9171-41df-f7ef-1a6f2e4c30f0",
        "colab": {
          "base_uri": "https://localhost:8080/"
        }
      },
      "outputs": [
        {
          "output_type": "stream",
          "name": "stdout",
          "text": [
            "Python 3.7.12\n"
          ]
        }
      ],
      "source": [
        "!python --version"
      ]
    },
    {
      "cell_type": "markdown",
      "source": [
        "# Part 1:"
      ],
      "metadata": {
        "id": "eevlNt2ndani"
      }
    },
    {
      "cell_type": "markdown",
      "metadata": {
        "id": "xgaUUnox8VQ0"
      },
      "source": [
        "## **Keywords**\n",
        "\n",
        "The Python language reserves a small set of keywords that designate special language functionality. No object can have the same name as a reserved word.\n",
        "\n",
        "For example, in Python 3.6.9, there are 33 reserved keywords, You can see this list any time by typing **help(\"keywords\")** . They are all entirely lowercase, except for **False**, **None**, and **True**. \n",
        "Keywords must be used exactly as shown below. "
      ]
    },
    {
      "cell_type": "code",
      "execution_count": null,
      "metadata": {
        "colab": {
          "base_uri": "https://localhost:8080/"
        },
        "id": "dh1YQ_no8VQ0",
        "outputId": "6f981c25-2edf-431d-c6e4-5624d6c44e9a"
      },
      "outputs": [
        {
          "output_type": "stream",
          "name": "stdout",
          "text": [
            "\n",
            "Here is a list of the Python keywords.  Enter any keyword to get more help.\n",
            "\n",
            "False               class               from                or\n",
            "None                continue            global              pass\n",
            "True                def                 if                  raise\n",
            "and                 del                 import              return\n",
            "as                  elif                in                  try\n",
            "assert              else                is                  while\n",
            "async               except              lambda              with\n",
            "await               finally             nonlocal            yield\n",
            "break               for                 not                 \n",
            "\n"
          ]
        }
      ],
      "source": [
        "help(\"keywords\")"
      ]
    },
    {
      "cell_type": "code",
      "source": [
        "from google.colab import drive\n",
        "drive.mount('/content/drive')"
      ],
      "metadata": {
        "id": "C-o72Zp-zZoQ"
      },
      "execution_count": null,
      "outputs": []
    },
    {
      "cell_type": "markdown",
      "metadata": {
        "id": "GKJ9TTDNkFLY"
      },
      "source": [
        "## **Variables and initialisations**\n",
        "\n",
        "Python has no specific command for declaring a variable.\n",
        "\n",
        "A variable is created the moment you first assign a value to it.\n"
      ]
    },
    {
      "cell_type": "markdown",
      "metadata": {
        "id": "cOW5ETv58VQ1"
      },
      "source": [
        "### **Creating variables**\n",
        "\n",
        "A variable is created the moment you first assign a value to it. In python, variables don't need to be declared with any particular type,  Python will find it on its own."
      ]
    },
    {
      "cell_type": "code",
      "execution_count": null,
      "metadata": {
        "colab": {
          "base_uri": "https://localhost:8080/"
        },
        "id": "xbIphCYD4Yot",
        "outputId": "b40f41a7-91be-45bc-cb4e-3778a6a9a824"
      },
      "outputs": [
        {
          "output_type": "stream",
          "name": "stdout",
          "text": [
            "Value of a is:  10\n"
          ]
        }
      ],
      "source": [
        "#assignment operator (=)\n",
        "a = 10\n",
        "print('Value of a is: ', a)"
      ]
    },
    {
      "cell_type": "code",
      "execution_count": null,
      "metadata": {
        "colab": {
          "base_uri": "https://localhost:8080/"
        },
        "id": "GkFiZFDB9SOj",
        "outputId": "abbb58f1-99d8-4291-e2ff-0516c9d88471"
      },
      "outputs": [
        {
          "output_type": "stream",
          "name": "stdout",
          "text": [
            "Value of a is:  12\n"
          ]
        }
      ],
      "source": [
        "a = 12 #reassignment\n",
        "print('Value of a is: ',a)"
      ]
    },
    {
      "cell_type": "markdown",
      "metadata": {
        "id": "NcKGX3hq8VQ3"
      },
      "source": [
        "### **Rules for valid variable names**\n",
        "\n",
        "For variable names convention there are a\n",
        "few rules that you must follow. Variable names may contain **uppercase** and **lowercase letters** (A–Z, a–z), **digits** (0–9), and **underscores**\n",
        "(_), but they cannot begin with a digit.\n",
        "\n",
        "However it's considered best pratice that names are lowercase.\n",
        "\n",
        "**Avoid using words that have special meaning in Python like int and str**\n",
        "\n",
        "For example, each of the following is a valid Python variable name:\n",
        "\n",
        "> **variable1**\n",
        "\n",
        "> **_a1p4a**\n",
        "\n",
        "> **list_of_names**\n",
        "\n",
        "invalid python variable name:\n",
        "\n",
        "> **2myvar = 2**\n",
        "\n",
        "> **my-var = 4**\n",
        "\n",
        "> **my var = 6**\n",
        "\n",
        "If a variable is composed by multiple words, we commonly write them in\n",
        "lower_case_with_underscores( number_of_students). Variable names are case-sensitive (**name**, **Name** and **NAME** are three different variables)\n"
      ]
    },
    {
      "cell_type": "code",
      "execution_count": null,
      "metadata": {
        "colab": {
          "base_uri": "https://localhost:8080/",
          "height": 135
        },
        "id": "7t-txcJHUMoV",
        "outputId": "6785f4c2-134d-4101-fc09-c2e18356e3fa"
      },
      "outputs": [
        {
          "output_type": "error",
          "ename": "SyntaxError",
          "evalue": "ignored",
          "traceback": [
            "\u001b[0;36m  File \u001b[0;32m\"<ipython-input-13-f914c38ceae5>\"\u001b[0;36m, line \u001b[0;32m1\u001b[0m\n\u001b[0;31m    my var = 2\u001b[0m\n\u001b[0m         ^\u001b[0m\n\u001b[0;31mSyntaxError\u001b[0m\u001b[0;31m:\u001b[0m invalid syntax\n"
          ]
        }
      ],
      "source": [
        "my var = 2"
      ]
    },
    {
      "cell_type": "markdown",
      "metadata": {
        "id": "FOPYRmWK8VQ3"
      },
      "source": [
        "## **Variables Types and Casting**"
      ]
    },
    {
      "cell_type": "markdown",
      "metadata": {
        "id": "s4s_ENEo71UC"
      },
      "source": [
        "### **Built-in Data Type**\n",
        "\n",
        "In programming, data type is an important concept. Variables can store data of different types, and different types can do different things.\n",
        "\n",
        "The common data types include:\n",
        "\n",
        "> **Text Type:\tstr**\n",
        "\n",
        "> **Numeric Types:\tint, float, complex**\n",
        "\n",
        "> **Sequence Types:\tlist, tuple, range**\n",
        "\n",
        "> **Mapping Type:\tdict**\n",
        "\n",
        "> **Set Types:\tset**\n",
        "\n",
        "> **Boolean Type:\tbool**\n"
      ]
    },
    {
      "cell_type": "markdown",
      "metadata": {
        "id": "YRkU-YFV8VQ3"
      },
      "source": [
        "### **Get the type**\n",
        "\n",
        "You can the data type of a variable with the **type()** function."
      ]
    },
    {
      "cell_type": "code",
      "source": [
        "a =5\n",
        "b = [1,2]\n",
        "c='AMMI'"
      ],
      "metadata": {
        "id": "PfJxzN5YiKAp"
      },
      "execution_count": null,
      "outputs": []
    },
    {
      "cell_type": "code",
      "execution_count": null,
      "metadata": {
        "colab": {
          "base_uri": "https://localhost:8080/"
        },
        "id": "OZ_NH0mt8VQ3",
        "outputId": "7f952e2d-fd47-4ede-f3a4-cbe51c12a96a"
      },
      "outputs": [
        {
          "output_type": "stream",
          "name": "stdout",
          "text": [
            "Type of a:  <class 'int'>\n",
            "Type of b:  <class 'list'>\n",
            "Type of c:  <class 'str'>\n"
          ]
        }
      ],
      "source": [
        "print('Type of a: ', type(a))\n",
        "print('Type of b: ', type(b))\n",
        "print('Type of c: ', type(c))"
      ]
    },
    {
      "cell_type": "code",
      "execution_count": null,
      "metadata": {
        "id": "Fe-06gI58VQ4",
        "colab": {
          "base_uri": "https://localhost:8080/"
        },
        "outputId": "89b6b749-02bf-42ba-c796-d90dcc95a645"
      },
      "outputs": [
        {
          "output_type": "execute_result",
          "data": {
            "text/plain": [
              "False"
            ]
          },
          "metadata": {},
          "execution_count": 3
        }
      ],
      "source": [
        "isinstance(a, float) #check if a has a specific type"
      ]
    },
    {
      "cell_type": "markdown",
      "metadata": {
        "id": "OIIAKxUHAx0O"
      },
      "source": [
        "### **Int**\n",
        "\n",
        "Int, or integer, is a whole number, positive or negative, without decimals, of unlimited length."
      ]
    },
    {
      "cell_type": "code",
      "execution_count": null,
      "metadata": {
        "id": "yo6DaOqBA8e7",
        "colab": {
          "base_uri": "https://localhost:8080/"
        },
        "outputId": "7a3c80c1-077e-468b-ff15-5d06a3f40b9f"
      },
      "outputs": [
        {
          "output_type": "stream",
          "name": "stdout",
          "text": [
            "<class 'int'>\n",
            "<class 'int'>\n",
            "<class 'int'>\n"
          ]
        }
      ],
      "source": [
        "x = 1\n",
        "y = 35656222554887711\n",
        "z = -3255522\n",
        "\n",
        "print(type(x))\n",
        "print(type(y))\n",
        "print(type(z))"
      ]
    },
    {
      "cell_type": "markdown",
      "metadata": {
        "id": "kosmjqBYBJdT"
      },
      "source": [
        "### **Float**\n",
        "\n",
        "Float, or \"floating point number\" is a number, positive or negative, containing one or more decimals.\n",
        "\n"
      ]
    },
    {
      "cell_type": "code",
      "execution_count": null,
      "metadata": {
        "id": "-HQ1wVvXBBkg",
        "colab": {
          "base_uri": "https://localhost:8080/"
        },
        "outputId": "0b82abd3-7f5a-41d0-cd09-d0f88b509a66"
      },
      "outputs": [
        {
          "output_type": "stream",
          "name": "stdout",
          "text": [
            "<class 'float'>\n",
            "<class 'float'>\n",
            "<class 'float'>\n"
          ]
        }
      ],
      "source": [
        "x = 1.10\n",
        "y = 1.0\n",
        "z = -35.59\n",
        "\n",
        "print(type(x))\n",
        "print(type(y))\n",
        "print(type(z))"
      ]
    },
    {
      "cell_type": "markdown",
      "metadata": {
        "id": "BxYqJgQmBVlx"
      },
      "source": [
        "Float can also be scientific numbers with an \"e\" to indicate the power of 10.\n",
        "\n"
      ]
    },
    {
      "cell_type": "code",
      "execution_count": null,
      "metadata": {
        "id": "o1cj9IlHBQgu",
        "colab": {
          "base_uri": "https://localhost:8080/"
        },
        "outputId": "19b1b0a0-5ca9-4f3d-9079-160400abad95"
      },
      "outputs": [
        {
          "output_type": "stream",
          "name": "stdout",
          "text": [
            "<class 'float'>\n",
            "<class 'float'>\n",
            "<class 'float'>\n"
          ]
        }
      ],
      "source": [
        "x = 35e3\n",
        "y = 12E4\n",
        "z = -87.7e100\n",
        "\n",
        "print(type(x))\n",
        "print(type(y))\n",
        "print(type(z))"
      ]
    },
    {
      "cell_type": "code",
      "execution_count": null,
      "metadata": {
        "id": "rI9hJISDkxpr",
        "colab": {
          "base_uri": "https://localhost:8080/"
        },
        "outputId": "b2775372-6bfb-471c-bd32-8cb8d0a09db3"
      },
      "outputs": [
        {
          "output_type": "stream",
          "name": "stdout",
          "text": [
            "<class 'float'>\n"
          ]
        }
      ],
      "source": [
        "a=5\n",
        "print(type(a + 0.0)) # how it is done (casting?)"
      ]
    },
    {
      "cell_type": "markdown",
      "metadata": {
        "id": "-Ed3XaFzCz1U"
      },
      "source": [
        "### **Strings**\n",
        "\n",
        "Strings are sequence of letters in a specific order. Meaning that we can use indexing to access a specific character in a string.\n",
        "\n",
        "In python, they are surrounded by either single quotation marks, or double quotation marks.\n",
        "\n",
        "**'hello'** is the same as **\"hello\"**.\n",
        "\n",
        "You can display a string literal with the print() function:"
      ]
    },
    {
      "cell_type": "code",
      "execution_count": null,
      "metadata": {
        "id": "RFtqKpuQCzQQ"
      },
      "outputs": [],
      "source": [
        "print(\"This is a string\")\n",
        "print('This is a string')"
      ]
    },
    {
      "cell_type": "markdown",
      "metadata": {
        "id": "fsNlA_jq9SOn"
      },
      "source": [
        "We can also directly create a string in a cell, it will automatically output strings."
      ]
    },
    {
      "cell_type": "code",
      "execution_count": null,
      "metadata": {
        "id": "BYgnQeYi9SOn"
      },
      "outputs": [],
      "source": [
        "# Be careful with quotes!\n",
        "'I'm using single quotes, but this will create an error'"
      ]
    },
    {
      "cell_type": "markdown",
      "metadata": {
        "id": "s-r5dIcq9SOn"
      },
      "source": [
        "The reason for the error above is because the single quote in I'm stopped the string. You can use combinations of double and single quotes to get the complete statement."
      ]
    },
    {
      "cell_type": "code",
      "execution_count": null,
      "metadata": {
        "id": "gk-x5U819SOn"
      },
      "outputs": [],
      "source": [
        "\"Now I'm ready to use the single quotes inside a string!\""
      ]
    },
    {
      "cell_type": "code",
      "execution_count": null,
      "metadata": {
        "id": "05vw7TVD5YzW"
      },
      "outputs": [],
      "source": [
        "# Another alternative using backslash!\n",
        "'I\\'m using single quotes, but this will create an error'"
      ]
    },
    {
      "cell_type": "markdown",
      "source": [
        "### String Format:"
      ],
      "metadata": {
        "id": "H7DsgCrVEmCK"
      }
    },
    {
      "cell_type": "markdown",
      "source": [
        "if you want your output string to be in  specified format for example you want the integers inside the string to have 2 digits only you can use string formatting as follows:\n",
        "\n"
      ],
      "metadata": {
        "id": "O5c39W2sdKoV"
      }
    },
    {
      "cell_type": "markdown",
      "source": [
        "#### Using (format) function"
      ],
      "metadata": {
        "id": "XdsmzZ3Rfj71"
      }
    },
    {
      "cell_type": "code",
      "source": [
        "price=4\n",
        "print(\"For only {:02d} dollars!\".format(price))"
      ],
      "metadata": {
        "id": "YsJOfcJZdIij",
        "colab": {
          "base_uri": "https://localhost:8080/"
        },
        "outputId": "ec45bbad-6b0f-4dba-95c1-628b313ecfa9"
      },
      "execution_count": null,
      "outputs": [
        {
          "output_type": "stream",
          "name": "stdout",
          "text": [
            "For only 04 dollars!\n"
          ]
        }
      ]
    },
    {
      "cell_type": "code",
      "source": [
        "#what if price =4.254? and your string output price as 4.25 ..what to place inside the brackets?\n",
        "#your code here"
      ],
      "metadata": {
        "id": "lcLd8Yd7hc6T"
      },
      "execution_count": null,
      "outputs": []
    },
    {
      "cell_type": "markdown",
      "source": [
        "#### f-Strings (Python 3.6+)"
      ],
      "metadata": {
        "id": "QlTZpnrRgv3b"
      }
    },
    {
      "cell_type": "code",
      "source": [
        "a = 5\n",
        "b = 10\n",
        "print(f'Five plus ten is {a + b} and not {2 * (a + b)}.')"
      ],
      "metadata": {
        "id": "kbX7fjE1ffJq",
        "colab": {
          "base_uri": "https://localhost:8080/"
        },
        "outputId": "e34b8664-de14-4b7a-897a-d74e862fd9f9"
      },
      "execution_count": null,
      "outputs": [
        {
          "output_type": "stream",
          "name": "stdout",
          "text": [
            "Five plus ten is 15 and not 30.\n"
          ]
        }
      ]
    },
    {
      "cell_type": "code",
      "source": [
        "#Try to convert the example with format function to f-String"
      ],
      "metadata": {
        "id": "W5hm5rOWgypj"
      },
      "execution_count": null,
      "outputs": []
    },
    {
      "cell_type": "markdown",
      "metadata": {
        "id": "kia3CxyR9SOn"
      },
      "source": [
        "#### String Basics\n",
        "We can also perform some operations on string: "
      ]
    },
    {
      "cell_type": "code",
      "source": [
        "sentence = \"I'm a beginner in Python Programming Language.\""
      ],
      "metadata": {
        "id": "oBbj9w7qj7_d"
      },
      "execution_count": null,
      "outputs": []
    },
    {
      "cell_type": "code",
      "execution_count": null,
      "metadata": {
        "id": "tNVpjeTSHAQ7",
        "colab": {
          "base_uri": "https://localhost:8080/"
        },
        "outputId": "edf183c7-8e76-4aab-8b6e-b8ecb4cae5c2"
      },
      "outputs": [
        {
          "output_type": "execute_result",
          "data": {
            "text/plain": [
              "46"
            ]
          },
          "metadata": {},
          "execution_count": 19
        }
      ],
      "source": [
        "len(sentence ) # Get the length of a string"
      ]
    },
    {
      "cell_type": "markdown",
      "metadata": {
        "id": "sz9HrRB69SOp"
      },
      "source": [
        "len() function counts all of the characters in the string, including spaces and ponctuation."
      ]
    },
    {
      "cell_type": "markdown",
      "metadata": {
        "id": "ppbOpzyE9SOp"
      },
      "source": [
        "#### String Indexing"
      ]
    },
    {
      "cell_type": "code",
      "source": [
        "sentence[0] # Get the character at position 0"
      ],
      "metadata": {
        "colab": {
          "base_uri": "https://localhost:8080/",
          "height": 35
        },
        "id": "D3i8sundkDyI",
        "outputId": "a314cd90-eceb-460a-d315-4c67b114b020"
      },
      "execution_count": null,
      "outputs": [
        {
          "output_type": "execute_result",
          "data": {
            "application/vnd.google.colaboratory.intrinsic+json": {
              "type": "string"
            },
            "text/plain": [
              "'I'"
            ]
          },
          "metadata": {},
          "execution_count": 20
        }
      ]
    },
    {
      "cell_type": "code",
      "execution_count": null,
      "metadata": {
        "id": "geDv3zN3HAOI",
        "colab": {
          "base_uri": "https://localhost:8080/",
          "height": 171
        },
        "outputId": "ac34aa19-24c5-44cf-9e05-07278712e8fc"
      },
      "outputs": [
        {
          "output_type": "error",
          "ename": "IndexError",
          "evalue": "ignored",
          "traceback": [
            "\u001b[0;31m---------------------------------------------------------------------------\u001b[0m",
            "\u001b[0;31mIndexError\u001b[0m                                Traceback (most recent call last)",
            "\u001b[0;32m<ipython-input-23-31c8ec71fb9c>\u001b[0m in \u001b[0;36m<module>\u001b[0;34m()\u001b[0m\n\u001b[0;32m----> 1\u001b[0;31m \u001b[0msentence\u001b[0m\u001b[0;34m[\u001b[0m\u001b[0;36m46\u001b[0m\u001b[0;34m]\u001b[0m \u001b[0;31m#Out of range index\u001b[0m\u001b[0;34m\u001b[0m\u001b[0;34m\u001b[0m\u001b[0m\n\u001b[0m",
            "\u001b[0;31mIndexError\u001b[0m: string index out of range"
          ]
        }
      ],
      "source": [
        "sentence[46] #Out of range index"
      ]
    },
    {
      "cell_type": "markdown",
      "metadata": {
        "id": "eClyGGKE9SOp"
      },
      "source": [
        "We can use a : to perform **slicing** which grabs everything up to a designated point. \n",
        "\n",
        "For example:"
      ]
    },
    {
      "cell_type": "code",
      "execution_count": null,
      "metadata": {
        "id": "aVLhCdaHHyNJ",
        "colab": {
          "base_uri": "https://localhost:8080/",
          "height": 35
        },
        "outputId": "e6fdf1c4-8f48-4d71-b755-9ed8072f338b"
      },
      "outputs": [
        {
          "output_type": "execute_result",
          "data": {
            "application/vnd.google.colaboratory.intrinsic+json": {
              "type": "string"
            },
            "text/plain": [
              "\"I'm\""
            ]
          },
          "metadata": {},
          "execution_count": 24
        }
      ],
      "source": [
        "sentence[0:3] #Get the 3 first characters\n"
      ]
    },
    {
      "cell_type": "markdown",
      "metadata": {
        "id": "uZRXCera9SOq"
      },
      "source": [
        "Here we're telling Python to grab everything from 0 up to 3. It doesn't include the 3rd index. You'll notice this a lot in Python, where statements are usually in the context of \"up to, but not including\"."
      ]
    },
    {
      "cell_type": "code",
      "execution_count": null,
      "metadata": {
        "id": "mrOgIzJc9SOq",
        "colab": {
          "base_uri": "https://localhost:8080/",
          "height": 35
        },
        "outputId": "3a158107-21ea-4211-e86a-64b4b0b053c5"
      },
      "outputs": [
        {
          "output_type": "execute_result",
          "data": {
            "application/vnd.google.colaboratory.intrinsic+json": {
              "type": "string"
            },
            "text/plain": [
              "\"I'm a beginner in Python Programming Language.\""
            ]
          },
          "metadata": {},
          "execution_count": 25
        }
      ],
      "source": [
        "sentence[:]"
      ]
    },
    {
      "cell_type": "markdown",
      "metadata": {
        "id": "Q1jugnEi9SOq"
      },
      "source": [
        "We can also use negative indexing to go backwards."
      ]
    },
    {
      "cell_type": "code",
      "execution_count": null,
      "metadata": {
        "id": "xXlWiAyE9SOr",
        "colab": {
          "base_uri": "https://localhost:8080/",
          "height": 35
        },
        "outputId": "737c2f7d-fea7-4ab7-b8da-7eb0bcdc1921"
      },
      "outputs": [
        {
          "output_type": "execute_result",
          "data": {
            "application/vnd.google.colaboratory.intrinsic+json": {
              "type": "string"
            },
            "text/plain": [
              "'.'"
            ]
          },
          "metadata": {},
          "execution_count": 26
        }
      ],
      "source": [
        "sentence[-1] # Last letter (one index behind 0 so it loops back around)\n"
      ]
    },
    {
      "cell_type": "code",
      "execution_count": null,
      "metadata": {
        "id": "h7TMx77CIBBn"
      },
      "outputs": [],
      "source": [
        " #Grap everything but leave out the last character\n",
        " #your code here"
      ]
    },
    {
      "cell_type": "code",
      "execution_count": null,
      "metadata": {
        "id": "XazDuDUCINYF"
      },
      "outputs": [],
      "source": [
        "sentence[-4:] # Get the 4 last characters"
      ]
    },
    {
      "cell_type": "markdown",
      "metadata": {
        "id": "c4qTL5b09SOr"
      },
      "source": [
        "We can also use index and slice notation to grab elements of a sequence by a specified step size (the default is 1). For instance we can use two colons in a row and then a number specifying the frequency to grab elements. For example:"
      ]
    },
    {
      "cell_type": "code",
      "execution_count": null,
      "metadata": {
        "id": "2VDYN5hf9SOr"
      },
      "outputs": [],
      "source": [
        "# Grab everything, but go in steps size of 1\n",
        "sentence[::1]"
      ]
    },
    {
      "cell_type": "code",
      "execution_count": null,
      "metadata": {
        "id": "d5BvPS_39SOs"
      },
      "outputs": [],
      "source": [
        " #Grap everything but  go in steps size of 1\n",
        " #your code here"
      ]
    },
    {
      "cell_type": "code",
      "execution_count": null,
      "metadata": {
        "id": "CK1wBr359SOs"
      },
      "outputs": [],
      "source": [
        "# We can use this to print a string backwards\n",
        "sentence[::-1]"
      ]
    },
    {
      "cell_type": "markdown",
      "metadata": {
        "id": "JuQ7zAqf9SOs"
      },
      "source": [
        "**Note that there will be no changes to the original variable.**"
      ]
    },
    {
      "cell_type": "markdown",
      "metadata": {
        "id": "DqMBCZk-9SOt"
      },
      "source": [
        "#### String Properties¶\n",
        "It's important to note that strings have an important property known as immutability. This means that once a string is created, the elements within it can not be changed or replaced. For example:"
      ]
    },
    {
      "cell_type": "code",
      "execution_count": null,
      "metadata": {
        "id": "geg4COCKD-qM",
        "colab": {
          "base_uri": "https://localhost:8080/",
          "height": 171
        },
        "outputId": "37fd3bf7-64ac-4d46-90d0-1a5fc3b10876"
      },
      "outputs": [
        {
          "output_type": "error",
          "ename": "TypeError",
          "evalue": "ignored",
          "traceback": [
            "\u001b[0;31m---------------------------------------------------------------------------\u001b[0m",
            "\u001b[0;31mTypeError\u001b[0m                                 Traceback (most recent call last)",
            "\u001b[0;32m<ipython-input-27-abdd86dd074e>\u001b[0m in \u001b[0;36m<module>\u001b[0;34m()\u001b[0m\n\u001b[0;32m----> 1\u001b[0;31m \u001b[0msentence\u001b[0m\u001b[0;34m[\u001b[0m\u001b[0;36m0\u001b[0m\u001b[0;34m]\u001b[0m \u001b[0;34m=\u001b[0m \u001b[0;34m'H'\u001b[0m\u001b[0;34m\u001b[0m\u001b[0;34m\u001b[0m\u001b[0m\n\u001b[0m",
            "\u001b[0;31mTypeError\u001b[0m: 'str' object does not support item assignment"
          ]
        }
      ],
      "source": [
        "sentence[0] = 'H'"
      ]
    },
    {
      "cell_type": "markdown",
      "metadata": {
        "id": "FMUyPfrI9SOt"
      },
      "source": [
        "Notice how the error tells us directly what we can't do, change the item assignment!\n",
        "\n",
        "Something we can do is concatenate strings!"
      ]
    },
    {
      "cell_type": "code",
      "execution_count": null,
      "metadata": {
        "id": "W3O9koi2Itv3",
        "colab": {
          "base_uri": "https://localhost:8080/",
          "height": 35
        },
        "outputId": "2ed4929c-6795-4215-8f6b-6cfcbb489f7f"
      },
      "outputs": [
        {
          "output_type": "execute_result",
          "data": {
            "application/vnd.google.colaboratory.intrinsic+json": {
              "type": "string"
            },
            "text/plain": [
              "\"I'm a beginner in Python Programming Language. Concatenate me!\""
            ]
          },
          "metadata": {},
          "execution_count": 28
        }
      ],
      "source": [
        "sentence + ' Concatenate me!'"
      ]
    },
    {
      "cell_type": "code",
      "execution_count": null,
      "metadata": {
        "id": "0HQgGQ1X9SOt",
        "colab": {
          "base_uri": "https://localhost:8080/",
          "height": 35
        },
        "outputId": "80efb463-e722-490b-c65b-3329074aece3"
      },
      "outputs": [
        {
          "output_type": "execute_result",
          "data": {
            "application/vnd.google.colaboratory.intrinsic+json": {
              "type": "string"
            },
            "text/plain": [
              "\"I'm a beginner in Python Programming Language. Concatenate me!\""
            ]
          },
          "metadata": {},
          "execution_count": 29
        }
      ],
      "source": [
        "sentence = sentence + ' Concatenate me!' #We can reassign statement completly\n",
        "sentence"
      ]
    },
    {
      "cell_type": "markdown",
      "metadata": {
        "id": "hit9qCAg9SOt"
      },
      "source": [
        "We can use the multiplication symbol to create repetition."
      ]
    },
    {
      "cell_type": "code",
      "execution_count": null,
      "metadata": {
        "id": "jwpY74Qn9SOu"
      },
      "outputs": [],
      "source": [
        "letter = 'a'\n",
        "print(letter)\n",
        "letter*10"
      ]
    },
    {
      "cell_type": "markdown",
      "metadata": {
        "id": "sQWeiky09SOu"
      },
      "source": [
        "#### Basic Built-in String \n",
        "Strings has built-in function that can perform actions or commands on a string.\n",
        "\n",
        "Some examples of built-in methods are:"
      ]
    },
    {
      "cell_type": "code",
      "execution_count": null,
      "metadata": {
        "id": "ouCYpnEF9SOu"
      },
      "outputs": [],
      "source": [
        "#Upper case\n",
        "sentence.upper()"
      ]
    },
    {
      "cell_type": "code",
      "execution_count": null,
      "metadata": {
        "id": "w1B3UjPQ9SOu"
      },
      "outputs": [],
      "source": [
        "#lower case\n",
        "sentence.lower()"
      ]
    },
    {
      "cell_type": "code",
      "execution_count": null,
      "metadata": {
        "id": "9WejK1kz9SOu"
      },
      "outputs": [],
      "source": [
        "# Split a string by blank space (this is the default)\n",
        "sentence.split()"
      ]
    },
    {
      "cell_type": "code",
      "execution_count": null,
      "metadata": {
        "id": "QK7E0yWa9SOv"
      },
      "outputs": [],
      "source": [
        "# Split by a specific element (doesn't include the element that was split on)\n",
        "sentence.split(\".\")"
      ]
    },
    {
      "cell_type": "code",
      "execution_count": null,
      "metadata": {
        "id": "ISodSRLe9SOv"
      },
      "outputs": [],
      "source": [
        "help(str) # for others built-in function"
      ]
    },
    {
      "cell_type": "code",
      "execution_count": null,
      "metadata": {
        "id": "Xq16KcPQJd6y"
      },
      "outputs": [],
      "source": [
        "'a' in sentence # Check if a specific character IS in present in string"
      ]
    },
    {
      "cell_type": "code",
      "execution_count": null,
      "metadata": {
        "id": "2ttjcGn0J2qa"
      },
      "outputs": [],
      "source": [
        "'x' not in sentence # Check if a specific character is NOT in present in string"
      ]
    },
    {
      "cell_type": "code",
      "source": [
        "#Substring search\n",
        "if \"AM\" in \"AMMI\":\n",
        "  print(\"AMMI\")"
      ],
      "metadata": {
        "id": "i8fnlr8kFsOJ"
      },
      "execution_count": null,
      "outputs": []
    },
    {
      "cell_type": "markdown",
      "metadata": {
        "id": "OnAI0bau8VQ4"
      },
      "source": [
        "## **Casting**\n",
        "\n",
        "Casting in python is therefore done using predifined functions:\n",
        "\n",
        "> **int()** - constructs an integer number from an integer literal, a float literal (by rounding down to the previous whole number), or a string literal (providing the string represents a whole number)\n",
        "\n",
        "> **float()** - constructs a float number from an integer literal, a float literal or a string literal (providing the string represents a float or an integer)\n",
        "\n",
        "> **str()** - constructs a string from a wide variety of data types, including strings, integer literals and float literals\n",
        "\n",
        "\n"
      ]
    },
    {
      "cell_type": "markdown",
      "source": [
        "For example, you want to add two numbers in which one existing value of a variable is an integer and the second is a string.\n",
        "Then you need to use Python typecasting to convert string data type in integer before adding.\n",
        "\n"
      ],
      "metadata": {
        "id": "6O6EelHQlwlJ"
      }
    },
    {
      "cell_type": "code",
      "source": [
        "a='123'\n",
        "b=23\n",
        "print(f'adding the string to the float : {int(a)+b}')"
      ],
      "metadata": {
        "colab": {
          "base_uri": "https://localhost:8080/"
        },
        "id": "uj24BXDJlnOr",
        "outputId": "aaa46009-6e3e-41e2-b568-aed5d96332b0"
      },
      "execution_count": null,
      "outputs": [
        {
          "output_type": "stream",
          "name": "stdout",
          "text": [
            "adding the string to the float : 146\n"
          ]
        }
      ]
    },
    {
      "cell_type": "code",
      "execution_count": null,
      "metadata": {
        "id": "ITc3WUwh7kvd",
        "colab": {
          "base_uri": "https://localhost:8080/"
        },
        "outputId": "d3ac7ecb-29ab-4b29-c996-5e0070579f07"
      },
      "outputs": [
        {
          "output_type": "stream",
          "name": "stdout",
          "text": [
            "Type of x before: <class 'float'>\n",
            "Type of x after: <class 'int'>\n"
          ]
        }
      ],
      "source": [
        "x = 2.8\n",
        "print(f'Type of x before: {type(x)}')\n",
        "\n",
        "x = int(x) # y will be 2\n",
        "print(f'Type of x after: {type(x)}')\n"
      ]
    },
    {
      "cell_type": "code",
      "execution_count": null,
      "metadata": {
        "id": "1pko9hd88VQ5"
      },
      "outputs": [],
      "source": [
        "y = '3'\n",
        "print('Type of y before: {}'.format(type(y)))\n",
        "\n",
        "y = int(y) # z will be 3\n",
        "print('Type of y after: {}'.format(type(y)))\n"
      ]
    },
    {
      "cell_type": "code",
      "source": [
        "#Not all the types!!!!\n",
        "s=\"AMMI\"\n",
        "int(s)"
      ],
      "metadata": {
        "id": "bBxPtQp2FxBw"
      },
      "execution_count": null,
      "outputs": []
    },
    {
      "cell_type": "markdown",
      "metadata": {
        "id": "7_YZic6m8VQ5"
      },
      "source": [
        "## **Basics maths operation**"
      ]
    },
    {
      "cell_type": "code",
      "execution_count": null,
      "metadata": {
        "id": "lRNPhnzB8VQ5"
      },
      "outputs": [],
      "source": [
        "a = 10\n",
        "b = 3"
      ]
    },
    {
      "cell_type": "code",
      "execution_count": null,
      "metadata": {
        "id": "QUo3dWYD8VQ5"
      },
      "outputs": [],
      "source": [
        "# addition\n",
        "c = a + b\n",
        "print('{} + {} = {}'.format(a, b, c))"
      ]
    },
    {
      "cell_type": "code",
      "execution_count": null,
      "metadata": {
        "id": "kaHeRGhY8VQ6"
      },
      "outputs": [],
      "source": [
        "# substraction\n",
        "c = a - b\n",
        "print('{} - {} = {}'.format(a, b, c))"
      ]
    },
    {
      "cell_type": "code",
      "execution_count": null,
      "metadata": {
        "id": "J_LNFoQb8VQ6"
      },
      "outputs": [],
      "source": [
        "# Multiplication\n",
        "m = a * b\n",
        "print('{} * {} = {}'.format(a, b, c))"
      ]
    },
    {
      "cell_type": "code",
      "execution_count": null,
      "metadata": {
        "id": "P3DZNxEJkabu"
      },
      "outputs": [],
      "source": [
        "# exponential\n",
        "e = a ** b\n",
        "print('{}^{} = {}'.format(a, b, e))"
      ]
    },
    {
      "cell_type": "code",
      "execution_count": null,
      "metadata": {
        "id": "1X_MbjzfkvX6"
      },
      "outputs": [],
      "source": [
        "# floor division, // (two forward slashes)\n",
        "d = a // b\n",
        "print('{} // {} = {}'.format(a, b, d))"
      ]
    },
    {
      "cell_type": "markdown",
      "metadata": {
        "id": "hLicuX5B9SO0"
      },
      "source": [
        " **So what if we just want the remainder after division ?**"
      ]
    },
    {
      "cell_type": "code",
      "execution_count": null,
      "metadata": {
        "id": "cBO8elRh9SO0",
        "colab": {
          "base_uri": "https://localhost:8080/"
        },
        "outputId": "bf814953-6fc4-4be7-894a-a5bfa996bd54"
      },
      "outputs": [
        {
          "output_type": "stream",
          "name": "stdout",
          "text": [
            "10 % 3 = 1\n"
          ]
        }
      ],
      "source": [
        "# modulo, remainder after division\n",
        "m = a % b\n",
        "print('{} % {} = {}'.format(a, b, m))"
      ]
    },
    {
      "cell_type": "code",
      "execution_count": null,
      "metadata": {
        "id": "fzIJDRbc8VQ8",
        "colab": {
          "base_uri": "https://localhost:8080/"
        },
        "outputId": "70476e3f-05f9-4abc-ae3c-37592dbc4a3c"
      },
      "outputs": [
        {
          "output_type": "stream",
          "name": "stdout",
          "text": [
            "10 / 3 = 3.3333333333333335\n"
          ]
        }
      ],
      "source": [
        "d = a / b\n",
        "print('{} / {} = {}'.format(a, b, d))"
      ]
    },
    {
      "cell_type": "code",
      "execution_count": null,
      "metadata": {
        "id": "RwfuC17n9SO1",
        "colab": {
          "base_uri": "https://localhost:8080/"
        },
        "outputId": "ae5e465d-7d31-4a4f-fb14-66ebe6b24f69"
      },
      "outputs": [
        {
          "output_type": "execute_result",
          "data": {
            "text/plain": [
              "105"
            ]
          },
          "metadata": {},
          "execution_count": 36
        }
      ],
      "source": [
        "# Order of operations followed in Python\n",
        "2 + 10 * 10 + 3"
      ]
    },
    {
      "cell_type": "code",
      "execution_count": null,
      "metadata": {
        "id": "BoFd6k4i9SO1"
      },
      "outputs": [],
      "source": [
        "# Can use parentheses to specify orders\n",
        "\n",
        "(2+10) * (10+3)"
      ]
    },
    {
      "cell_type": "markdown",
      "metadata": {
        "id": "QKNFFXPinDUk"
      },
      "source": [
        "__Some shortcuts__\n",
        "\n",
        "There's actually a shortcut for the math operations. Python lets you add, subtract, multiply and divide numbers with reassignment using +=, -=, *=, and /=."
      ]
    },
    {
      "cell_type": "code",
      "execution_count": null,
      "metadata": {
        "id": "wi2QaMrY8VQ8"
      },
      "outputs": [],
      "source": [
        "n = 2 # i want to add 1 to a"
      ]
    },
    {
      "cell_type": "code",
      "execution_count": null,
      "metadata": {
        "id": "ONFJNaJ1nGUF"
      },
      "outputs": [],
      "source": [
        "n = 2\n",
        "n = n + 1\n",
        "print(n)\n",
        "\n",
        "n = 2\n",
        "n += 1\n",
        "print(n)"
      ]
    },
    {
      "cell_type": "code",
      "execution_count": null,
      "metadata": {
        "id": "3aNJ0-FHqP7O"
      },
      "outputs": [],
      "source": [
        "n = 3\n",
        "n = n * 2\n",
        "print(n)\n",
        "\n",
        "n = 3\n",
        "n *= 2\n",
        "print(n)"
      ]
    },
    {
      "cell_type": "markdown",
      "metadata": {
        "id": "JQZbfXij9SO2"
      },
      "source": [
        "### **Comparison operators**\n",
        "\n",
        "These operators will allow us to compare variables and output a Boolean value (True or False).\n",
        "\n",
        "**Equal ( == )**: If the values of two operands are equal, then the condition becomes true\n",
        "\n",
        "**Different ( != )**: If values of two operands are not equal, then condition becomes true.\n",
        "\n",
        "**greater than ( > )**: If the value of left operand is greater than the value of right operand, then condition becomes true.\n",
        "\n",
        "**less than ( < )**: If the value of left operand is less than the value of right operand, then condition becomes true.\n",
        "\n",
        "**greater or equal than ( >= )**: If the value of left operand is greater than or equal to the value of right operand, then condition becomes true.\n",
        "\n",
        "**less or equal than ( <= )**: If the value of left operand is less than or equal to the value of right operand, then condition becomes true.\n"
      ]
    },
    {
      "cell_type": "markdown",
      "metadata": {
        "id": "vUu3dLvS9SO2"
      },
      "source": [
        "**Equal**"
      ]
    },
    {
      "cell_type": "code",
      "execution_count": null,
      "metadata": {
        "id": "IIeyOsHG9SO2"
      },
      "outputs": [],
      "source": [
        "2 == 2"
      ]
    },
    {
      "cell_type": "code",
      "source": [
        "val = 0\n",
        "if val == 0:\n",
        "  print('AMMI')"
      ],
      "metadata": {
        "id": "nCzcUae0GsgD"
      },
      "execution_count": null,
      "outputs": []
    },
    {
      "cell_type": "markdown",
      "metadata": {
        "id": "RJLwExPp9SO3"
      },
      "source": [
        "**Note that == is a comparison operator, while = is an assignment operator.**"
      ]
    },
    {
      "cell_type": "markdown",
      "metadata": {
        "id": "b695e8OV9SO3"
      },
      "source": [
        "**Not Equal**"
      ]
    },
    {
      "cell_type": "code",
      "execution_count": null,
      "metadata": {
        "id": "6VxBN7oi9SO3"
      },
      "outputs": [],
      "source": [
        "2 != 1"
      ]
    },
    {
      "cell_type": "code",
      "execution_count": null,
      "metadata": {
        "id": "G-i8dJgG9SO3"
      },
      "outputs": [],
      "source": [
        "2 != 2"
      ]
    },
    {
      "cell_type": "markdown",
      "metadata": {
        "id": "OMkGIl3T9SO4"
      },
      "source": [
        "**Greater than**"
      ]
    },
    {
      "cell_type": "code",
      "execution_count": null,
      "metadata": {
        "id": "CZTYSudp9SO4"
      },
      "outputs": [],
      "source": [
        "2 > 2"
      ]
    },
    {
      "cell_type": "markdown",
      "metadata": {
        "id": "iF1rsrJc9SO4"
      },
      "source": [
        "**Less than**"
      ]
    },
    {
      "cell_type": "code",
      "execution_count": null,
      "metadata": {
        "id": "MuKYpbXe9SO5"
      },
      "outputs": [],
      "source": [
        "5 < 7"
      ]
    },
    {
      "cell_type": "markdown",
      "metadata": {
        "id": "yhrVQz0U9SO5"
      },
      "source": [
        "**Greater than or Equal to**"
      ]
    },
    {
      "cell_type": "code",
      "execution_count": null,
      "metadata": {
        "id": "vuhGvpvi9SO5"
      },
      "outputs": [],
      "source": [
        "2 >= 2"
      ]
    },
    {
      "cell_type": "markdown",
      "metadata": {
        "id": "Ulr6Ju1K9SO5"
      },
      "source": [
        "**Less than or Equal to**"
      ]
    },
    {
      "cell_type": "code",
      "execution_count": null,
      "metadata": {
        "id": "xBIffyDH9SO6"
      },
      "outputs": [],
      "source": [
        "2 <= 1"
      ]
    },
    {
      "cell_type": "markdown",
      "metadata": {
        "id": "eEOzlORD9SO6"
      },
      "source": [
        "#### **Chained Comparison Operators**¶\n",
        "An interesting feature of Python is the ability to chain multiple comparisons to perform a more complex test. You can use these to create larger Boolean Expressions.\n"
      ]
    },
    {
      "cell_type": "code",
      "execution_count": null,
      "metadata": {
        "id": "7ZD0BUKp9SO6"
      },
      "outputs": [],
      "source": [
        "1 < 2 < 3"
      ]
    },
    {
      "cell_type": "markdown",
      "metadata": {
        "id": "QWAGTHv19SO6"
      },
      "source": [
        "It will check first if 1 is less than 2 **and** if 2 is less than 3. We could have written this using an and statement in Python:"
      ]
    },
    {
      "cell_type": "code",
      "execution_count": null,
      "metadata": {
        "id": "QtcLoJmI9SO7"
      },
      "outputs": [],
      "source": [
        "1<2 and 2<3"
      ]
    },
    {
      "cell_type": "markdown",
      "metadata": {
        "id": "WxYqVskM9SO7"
      },
      "source": [
        "The and is used to make sure two checks have to be true in order for the total check to be true. Let's see another example:"
      ]
    },
    {
      "cell_type": "code",
      "execution_count": null,
      "metadata": {
        "id": "wiMfG05i9SO7"
      },
      "outputs": [],
      "source": [
        "1 < 3 > 2"
      ]
    },
    {
      "cell_type": "code",
      "execution_count": null,
      "metadata": {
        "id": "6WDLNrGl9SO7"
      },
      "outputs": [],
      "source": [
        "1<3 and 3<2"
      ]
    },
    {
      "cell_type": "markdown",
      "metadata": {
        "id": "MAhm-JOW9SO7"
      },
      "source": [
        "It's important to note that Python is checking both instances of the comparisons. We can also use **or** to write comparisons in Python.\n",
        "\n",
        "For example:"
      ]
    },
    {
      "cell_type": "code",
      "execution_count": null,
      "metadata": {
        "id": "JCFeAhng9SO7"
      },
      "outputs": [],
      "source": [
        "1 == 2 or 2<3"
      ]
    },
    {
      "cell_type": "markdown",
      "metadata": {
        "id": "sBkz3_of9SO8"
      },
      "source": [
        "## **Conditional statement**\n",
        "Conditional Statements (if, elif and else) in Python allows us to tell the computer to perform alternative actions based on a certain set of results. \n",
        "\n",
        "Syntax format for if statements to get a better idea of this:\n",
        "\n",
        "    if case1:\n",
        "        perform action1\n",
        "    elif case2:\n",
        "        perform action2\n",
        "    else: \n",
        "        perform action3"
      ]
    },
    {
      "cell_type": "code",
      "execution_count": null,
      "metadata": {
        "id": "vkjir8HXC9QY"
      },
      "outputs": [],
      "source": [
        "if 2==2:\n",
        "    print('The condition is True')\n",
        "else:\n",
        "    print('The condition is False')"
      ]
    },
    {
      "cell_type": "code",
      "execution_count": null,
      "metadata": {
        "id": "9t8mF-edC9Qa"
      },
      "outputs": [],
      "source": [
        "x = False\n",
        "\n",
        "if x:\n",
        "    print('x was True!')\n",
        "else:\n",
        "    print('I will be printed in any case where x is not true')\n"
      ]
    },
    {
      "cell_type": "markdown",
      "metadata": {
        "id": "R3nRBWiFC9Qa"
      },
      "source": [
        "### **Multiple Branches**\n",
        "Let's get a fuller picture of how far if, elif, and else can take us!\n",
        "\n",
        "We write this out in a nested structure. Take note of how the if, elif, and else line up in the code. This can help you see what if is related to what elif or else statements.\n",
        "\n",
        "Example:"
      ]
    },
    {
      "cell_type": "code",
      "execution_count": null,
      "metadata": {
        "id": "e87-AJeGC9Qa"
      },
      "outputs": [],
      "source": [
        "loc = 'Bank'\n",
        "\n",
        "if loc == 'Shop':\n",
        "    print('Welcome to the Shop!')\n",
        "elif loc == 'Bank':\n",
        "    print('Welcome to the bank!')\n",
        "else:\n",
        "    print('Where are you?')"
      ]
    },
    {
      "cell_type": "markdown",
      "source": [
        "#Part 2:"
      ],
      "metadata": {
        "id": "SgkGyxSbd5Qf"
      }
    },
    {
      "cell_type": "markdown",
      "source": [
        "## Python Loops:"
      ],
      "metadata": {
        "id": "KUJG4XxlHcL4"
      }
    },
    {
      "cell_type": "markdown",
      "source": [
        "### For loop:\n"
      ],
      "metadata": {
        "id": "SboyOwwkHfOs"
      }
    },
    {
      "cell_type": "markdown",
      "source": [
        "\n",
        "\n",
        "A `for-loop` allows you to iterate over a collection of items, and execute a block of code once for each iteration. Its general syntax is: <br><br>\n",
        "\n",
        "    for <var> in <iterable>:  \n",
        "        block of code"
      ],
      "metadata": {
        "id": "cM8oFXG3LIqe"
      }
    },
    {
      "cell_type": "code",
      "source": [
        "#Simple for loop in pyhton\n",
        "#We use the range() function. The range() function returns a sequence of numbers, starting from 0 by default, and increments by 1 (by default), and ends at a specified number.\n",
        "\n",
        "for el in range(1,5):\n",
        "  print(el)\n"
      ],
      "metadata": {
        "id": "kpFGXKelHhru"
      },
      "execution_count": null,
      "outputs": []
    },
    {
      "cell_type": "code",
      "source": [
        "#Excersie\n",
        "# Modify the arguments of the range function in the cell above to print the numbers: 4,6,8,10"
      ],
      "metadata": {
        "id": "krrlfJRsKZcM"
      },
      "execution_count": null,
      "outputs": []
    },
    {
      "cell_type": "code",
      "source": [
        "#to get the index also use enumerate\n",
        "for i,el in enumerate(range(1,5)):\n",
        "  print(i,el)"
      ],
      "metadata": {
        "id": "T17aYEN6J-Jl"
      },
      "execution_count": null,
      "outputs": []
    },
    {
      "cell_type": "code",
      "source": [
        "l = [1, 2, 4, 3, 6, 9, 25, 32]\n",
        "for el in l:\n",
        "    if el % 2 == 0:\n",
        "        print(el, ' is an even number.')\n",
        "    else:\n",
        "        print(el, ' is an odd number.')"
      ],
      "metadata": {
        "id": "O0Q3FA4PJqYQ"
      },
      "execution_count": null,
      "outputs": []
    },
    {
      "cell_type": "code",
      "source": [
        "first_names= ['Kobe', 'Michael', 'Lionel', 'Sadio']\n",
        "last_names = ['Bryant', 'Jordan', 'Messi', 'Mane', 'James' ]\n",
        "for (j,k) in (zip(first_names, last_names)):\n",
        "    print(\"{} {}\".format(j, k))"
      ],
      "metadata": {
        "id": "WJtcE6Y1JzO8"
      },
      "execution_count": null,
      "outputs": []
    },
    {
      "cell_type": "code",
      "source": [
        ""
      ],
      "metadata": {
        "id": "1r8uFDi-Iatz"
      },
      "execution_count": null,
      "outputs": []
    },
    {
      "cell_type": "code",
      "source": [
        "# Nested for loop\n",
        "n=3\n",
        "for i in range(n):\n",
        "    for j in range(n):          \n",
        "        print(i+j)\n",
        "    print('#########')\n",
        "                \n",
        "\n",
        "    "
      ],
      "metadata": {
        "id": "PJzbKW7WI2r-"
      },
      "execution_count": null,
      "outputs": []
    },
    {
      "cell_type": "markdown",
      "source": [
        "### While Loop:"
      ],
      "metadata": {
        "id": "ErG326GaK83K"
      }
    },
    {
      "cell_type": "markdown",
      "source": [
        "A `while-loop` allows you to repeat a block of code under certain condition. We generally use this loop if we don't know the number of times to iterate beforehand. Its general syntax is:<br><br>\n",
        "`while <condition>:\n",
        "    block of code`"
      ],
      "metadata": {
        "id": "cgVdShOxK_jh"
      }
    },
    {
      "cell_type": "code",
      "source": [
        "n = 10\n",
        "total, i = 0, 1\n",
        "while i <= n:\n",
        "    total += i\n",
        "    i += 1 #we need to increment i\n",
        "print('The sum is: ', total)\n",
        "print(total == sum(range(n+1)))"
      ],
      "metadata": {
        "id": "bwGO0csoK-3x"
      },
      "execution_count": null,
      "outputs": []
    },
    {
      "cell_type": "markdown",
      "source": [
        "Example 5: We can set a stopping condition for the while loop and until the condition is satisfied, the loop does not end. Care must be taken to avoid *infinite loop* where the  block of code runs forever because the condition is never satisfied."
      ],
      "metadata": {
        "id": "P-5qK62JL1dA"
      }
    },
    {
      "cell_type": "code",
      "source": [
        "#Modify the code somehow so that the loop terminate at some point\n",
        "\n",
        "satisfied = False\n",
        "n = 5\n",
        "i = 0\n",
        "while not satisfied:\n",
        "  print(i)\n",
        "  if i >= n:\n",
        "    satisfied = True\n",
        "  i +=1"
      ],
      "metadata": {
        "id": "9l-GQX27L04q"
      },
      "execution_count": null,
      "outputs": []
    },
    {
      "cell_type": "markdown",
      "source": [
        "### break and continue statements:"
      ],
      "metadata": {
        "id": "8P6BM18kJZOK"
      }
    },
    {
      "cell_type": "markdown",
      "source": [
        "`break` clause can be used to stop iteration or exiting in a given loop."
      ],
      "metadata": {
        "id": "qvEicszKMgBf"
      }
    },
    {
      "cell_type": "code",
      "source": [
        "# breaking out of a loop early\n",
        "num = 3\n",
        "l = [1, 2, 3, 4, 5]\n",
        "for item in l:\n",
        "    if item == num:\n",
        "        print(item, \"found. break!\")\n",
        "        break\n",
        "    print(item, \"next iteration\")"
      ],
      "metadata": {
        "id": "UIV6UXG2MfEu"
      },
      "execution_count": null,
      "outputs": []
    },
    {
      "cell_type": "markdown",
      "source": [
        "`else` clause can be used at the end of any loop. It will be executed if the loop was not executed with a `break` clause."
      ],
      "metadata": {
        "id": "cpmNg-d5M92q"
      }
    },
    {
      "cell_type": "code",
      "source": [
        "#try to remove the if statenment\n",
        "num = 4\n",
        "for item in [1, 2, 3, 4, 4]:\n",
        "    if item == num:\n",
        "        print(item, \"found. break!\")\n",
        "        break                     \n",
        "    print(item, \"next iteration\")\n",
        "else:\n",
        "    print('There is no ',num, ' in the list.' )"
      ],
      "metadata": {
        "id": "RR5q3PJzM7qI"
      },
      "execution_count": null,
      "outputs": []
    },
    {
      "cell_type": "markdown",
      "source": [
        "It returns the control to the beginning of the loop. It skips the current iteration ONLY!!!!"
      ],
      "metadata": {
        "id": "PF4mzD8XOCvu"
      }
    },
    {
      "cell_type": "code",
      "source": [
        "x = 1\n",
        "num = 2\n",
        "while x < 4:\n",
        "    if x == num:\n",
        "        print('skip', num)\n",
        "        x+=1\n",
        "        continue\n",
        "        \n",
        "    print(x)\n",
        "    x += 1\n"
      ],
      "metadata": {
        "id": "lM9lQZpeN8Xm"
      },
      "execution_count": null,
      "outputs": []
    },
    {
      "cell_type": "code",
      "source": [
        "#The continue and break statements terminate the inner loop only\n",
        "n=5\n",
        "for i in range(1,n):\n",
        "    for j in range(1,n):\n",
        "        if i==j:\n",
        "              continue                 \n",
        "        print(i+j)\n",
        "    break"
      ],
      "metadata": {
        "id": "XADvzQ3dJdrG"
      },
      "execution_count": null,
      "outputs": []
    },
    {
      "cell_type": "markdown",
      "source": [
        "## Python Functions:"
      ],
      "metadata": {
        "id": "Hvrr1T9VHKzo"
      }
    },
    {
      "cell_type": "code",
      "source": [
        "def name_of_function(arg1,arg2):\n",
        "    '''\n",
        "    This is where the function's Document String (docstring) goes\n",
        "    '''\n",
        "    \n",
        "    # Do stuff here\n",
        "    # Return desired result"
      ],
      "metadata": {
        "id": "KrGF1VAwHNyx"
      },
      "execution_count": null,
      "outputs": []
    },
    {
      "cell_type": "markdown",
      "source": [
        "## Using return\n",
        "Let's see some example that use a <code>return</code> statement. <code>return</code> allows a function to *return* a result that can then be stored as a variable, or used in whatever manner a user wants.\n",
        "\n",
        "### Example 2: Addition function"
      ],
      "metadata": {
        "id": "lUvCZlyjQOHQ"
      }
    },
    {
      "cell_type": "code",
      "source": [
        "def square(num):\n",
        "    return num**2\n",
        "\n",
        "square(2)"
      ],
      "metadata": {
        "id": "AhB6QjSlSn7F"
      },
      "execution_count": null,
      "outputs": []
    },
    {
      "cell_type": "code",
      "source": [
        "#We can pass a default value for the parameter\n",
        "def square(num=4):\n",
        "    return num**2\n",
        "\n",
        "square()"
      ],
      "metadata": {
        "id": "XNntzzFVTIk0"
      },
      "execution_count": null,
      "outputs": []
    },
    {
      "cell_type": "code",
      "source": [
        "#If you dont know the exact number of argumnets use the *\n",
        "def sum2(*args):\n",
        "  print(\"You passed: \",args)\n",
        "  return sum(args)\n",
        "sum2(32,3)"
      ],
      "metadata": {
        "id": "SR3a_ETDQPtq"
      },
      "execution_count": null,
      "outputs": []
    },
    {
      "cell_type": "markdown",
      "source": [
        "## Lambda expressions\n",
        "\n",
        "lambda expressions allow us to create \"anonymous\" functions. This basically means we can quickly make ad-hoc functions without needing to properly define a function using def."
      ],
      "metadata": {
        "id": "yxnPLLKHQqlQ"
      }
    },
    {
      "cell_type": "markdown",
      "source": [
        "This is the form a function that a lambda expression intends to replicate. A lambda expression can then be written as:"
      ],
      "metadata": {
        "id": "eR1zXYcCRJzr"
      }
    },
    {
      "cell_type": "code",
      "source": [
        "lambda num: num ** 2"
      ],
      "metadata": {
        "id": "8b6DieRZQ7y_"
      },
      "execution_count": null,
      "outputs": []
    },
    {
      "cell_type": "code",
      "source": [
        "# You wouldn't usually assign a name to a lambda expression, this is just for demonstration!\n",
        "square = lambda num: num **2"
      ],
      "metadata": {
        "id": "pQFcAT7wRRFo"
      },
      "execution_count": null,
      "outputs": []
    },
    {
      "cell_type": "code",
      "source": [
        "square(2)"
      ],
      "metadata": {
        "id": "LIhjgJP_RWCa"
      },
      "execution_count": null,
      "outputs": []
    },
    {
      "cell_type": "code",
      "source": [
        "d = {'a':3, 'b':2}\n",
        "\n",
        "\n",
        "def fun(x):\n",
        "  return x[1]\n",
        "\n",
        "print(sorted(d.items(), key=fun))\n",
        "\n",
        "# sorted(d.items(), key=lambda x:x[1])\n"
      ],
      "metadata": {
        "id": "Z6yMyejpUA-A"
      },
      "execution_count": null,
      "outputs": []
    }
  ],
  "metadata": {
    "colab": {
      "collapsed_sections": [
        "SgkGyxSbd5Qf",
        "KUJG4XxlHcL4",
        "lUvCZlyjQOHQ"
      ],
      "name": "Intro to python AMMI.ipynb",
      "provenance": []
    },
    "kernelspec": {
      "display_name": "Python 3",
      "language": "python",
      "name": "python3"
    },
    "language_info": {
      "codemirror_mode": {
        "name": "ipython",
        "version": 3
      },
      "file_extension": ".py",
      "mimetype": "text/x-python",
      "name": "python",
      "nbconvert_exporter": "python",
      "pygments_lexer": "ipython3",
      "version": "3.8.5"
    }
  },
  "nbformat": 4,
  "nbformat_minor": 0
}