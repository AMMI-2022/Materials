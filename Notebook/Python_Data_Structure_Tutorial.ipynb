{
  "nbformat": 4,
  "nbformat_minor": 0,
  "metadata": {
    "colab": {
      "name": "Python Data Structure Tutorial.ipynb",
      "provenance": [],
      "collapsed_sections": []
    },
    "kernelspec": {
      "name": "python3",
      "display_name": "Python 3"
    },
    "language_info": {
      "name": "python"
    }
  },
  "cells": [
    {
      "cell_type": "markdown",
      "source": [
        "#Data-Structures"
      ],
      "metadata": {
        "id": "vlxb528Hxduh"
      }
    },
    {
      "cell_type": "markdown",
      "source": [
        "###Content"
      ],
      "metadata": {
        "id": "RlmWUiuwyJHq"
      }
    },
    {
      "cell_type": "markdown",
      "source": [
        "**Builtin Data structures:**\n",
        "\n",
        "*   Lists\n",
        "*   tuples  \n",
        "*   Sets\n",
        "*   Dictionaries\n",
        "\n",
        "\n",
        "\n",
        "\n",
        "\n",
        "**Implementing data structures:**\n",
        "\n",
        "\n",
        "*   Stack\n",
        "*   Queue  \n",
        "*   Linked List\n",
        "\n"
      ],
      "metadata": {
        "id": "sWpBQmCf9FDS"
      }
    },
    {
      "cell_type": "markdown",
      "source": [
        "# What are Data Structures ?"
      ],
      "metadata": {
        "id": "NoDDk_n_vCeE"
      }
    },
    {
      "cell_type": "markdown",
      "source": [
        "Data structure is a storage that is used to store and organize data. It is a way of arranging data on a computer so that it can be accessed and updated efficiently."
      ],
      "metadata": {
        "id": "fGK5t1dKvILH"
      }
    },
    {
      "cell_type": "markdown",
      "source": [
        "#Lists:"
      ],
      "metadata": {
        "id": "uA29sbgoNHOd"
      }
    },
    {
      "cell_type": "markdown",
      "source": [
        "* Are ordered collection of items\n",
        "* Dynamic size\n",
        "* Mutable ( Objects whose value can change are said to be mutable; objects whose value is unchangeable once they are created are called immutable.)"
      ],
      "metadata": {
        "id": "WEtGSFnfUzzE"
      }
    },
    {
      "cell_type": "markdown",
      "source": [
        "# List initialization"
      ],
      "metadata": {
        "id": "hdIji83Znh2w"
      }
    },
    {
      "cell_type": "markdown",
      "source": [
        "### Using list constructor"
      ],
      "metadata": {
        "id": "Lem8O0gIo2kG"
      }
    },
    {
      "cell_type": "code",
      "source": [
        "list_1 = list() # Creating empty list"
      ],
      "metadata": {
        "id": "kOueLyMynhA5"
      },
      "execution_count": null,
      "outputs": []
    },
    {
      "cell_type": "markdown",
      "source": [
        "### Using square brackets:"
      ],
      "metadata": {
        "id": "N5XeQj0Uon6_"
      }
    },
    {
      "cell_type": "code",
      "source": [
        "list_2 = [10, 20, 30, 40] # Anthor way to create list"
      ],
      "metadata": {
        "id": "-BqVS8bonnFf"
      },
      "execution_count": null,
      "outputs": []
    },
    {
      "cell_type": "markdown",
      "source": [
        "###Using list comprehension:"
      ],
      "metadata": {
        "id": "mo3xaE9koSzu"
      }
    },
    {
      "cell_type": "code",
      "source": [
        "list_3 = [i for i in range(10)]"
      ],
      "metadata": {
        "id": "aT56heJ9oRU6"
      },
      "execution_count": null,
      "outputs": []
    },
    {
      "cell_type": "code",
      "source": [
        "list_3"
      ],
      "metadata": {
        "colab": {
          "base_uri": "https://localhost:8080/"
        },
        "id": "QSBRUEIDoj6R",
        "outputId": "6d545c8c-fa06-4600-b153-7270871bb7b4"
      },
      "execution_count": null,
      "outputs": [
        {
          "output_type": "execute_result",
          "data": {
            "text/plain": [
              "[0, 1, 2, 3, 4, 5, 6, 7, 8, 9]"
            ]
          },
          "metadata": {},
          "execution_count": 4
        }
      ]
    },
    {
      "cell_type": "markdown",
      "source": [
        "# Accessing the first element of the list"
      ],
      "metadata": {
        "id": "XKZ1SuldnsB4"
      }
    },
    {
      "cell_type": "code",
      "source": [
        "print(\"The first element of list_2 is\", list_2[0]) "
      ],
      "metadata": {
        "id": "qIXTO_HVnqZn",
        "colab": {
          "base_uri": "https://localhost:8080/"
        },
        "outputId": "17861a6b-4e86-40d6-8436-6e3a0419f720"
      },
      "execution_count": null,
      "outputs": [
        {
          "output_type": "stream",
          "name": "stdout",
          "text": [
            "The first element of list_2 is 10\n"
          ]
        }
      ]
    },
    {
      "cell_type": "markdown",
      "source": [
        "# Appending to a list:"
      ],
      "metadata": {
        "id": "vJPWpgssnyem"
      }
    },
    {
      "cell_type": "code",
      "source": [
        "list_1.append(10) # adding 10 to the list items. \n",
        "\n",
        "list_1.append(20) # adding 10 to the list items. \n",
        "list_1.append(10) # adding 10 to the list items. \n",
        "print(\"list_1 after append 10, 20 and 10\", list_1)"
      ],
      "metadata": {
        "id": "ukuUO_8vnwu9",
        "colab": {
          "base_uri": "https://localhost:8080/"
        },
        "outputId": "a18f1769-b59d-40f8-bba8-e361967fcb1b"
      },
      "execution_count": null,
      "outputs": [
        {
          "output_type": "stream",
          "name": "stdout",
          "text": [
            "list_1 after append 10, 20 and 10 [10, 20, 10]\n"
          ]
        }
      ]
    },
    {
      "cell_type": "markdown",
      "source": [
        "# Removing from a list:"
      ],
      "metadata": {
        "id": "mJL1O1-1n6Nz"
      }
    },
    {
      "cell_type": "code",
      "source": [
        "list_2.remove(20)\n",
        "print(\"list_2 after removing 20\", list_2)\n"
      ],
      "metadata": {
        "id": "fyqVAIk-n8Oz",
        "colab": {
          "base_uri": "https://localhost:8080/"
        },
        "outputId": "e86fa8a7-9ed5-403b-f1e3-92e6603cccb3"
      },
      "execution_count": null,
      "outputs": [
        {
          "output_type": "stream",
          "name": "stdout",
          "text": [
            "list_2 after removing 20 [10, 30, 40]\n"
          ]
        }
      ]
    },
    {
      "cell_type": "markdown",
      "source": [
        "# Extending another list:"
      ],
      "metadata": {
        "id": "uuHddYASoGSS"
      }
    },
    {
      "cell_type": "code",
      "source": [
        "list_1.extend(list_2) # Adding all elements from the list_2 to list_1\n",
        "print(\"list_1 after extending list_2\",list_1)\n"
      ],
      "metadata": {
        "id": "6g8jjt2koFxQ",
        "colab": {
          "base_uri": "https://localhost:8080/"
        },
        "outputId": "d2388d33-0a32-4b6c-f769-399ce3576341"
      },
      "execution_count": null,
      "outputs": [
        {
          "output_type": "stream",
          "name": "stdout",
          "text": [
            "list_1 after extending list_2 [10, 20, 10, 10, 30, 40, 10, 30, 40]\n"
          ]
        }
      ]
    },
    {
      "cell_type": "markdown",
      "source": [
        " # List concatenation:"
      ],
      "metadata": {
        "id": "-wEr2LFwoMP8"
      }
    },
    {
      "cell_type": "code",
      "source": [
        "list_3 = [\"cat\", \"dog\"]\n",
        "list_4 = list_1 + list_3\n",
        "print(\"list_4\", list_4)"
      ],
      "metadata": {
        "id": "OaZR_Kt8yFAP",
        "colab": {
          "base_uri": "https://localhost:8080/"
        },
        "outputId": "c237f3ab-a635-470f-bef4-212484d3771e"
      },
      "execution_count": null,
      "outputs": [
        {
          "output_type": "stream",
          "name": "stdout",
          "text": [
            "list_4 [10, 20, 10, 10, 30, 40, 10, 30, 40, 'cat', 'dog']\n"
          ]
        }
      ]
    },
    {
      "cell_type": "markdown",
      "source": [
        "# Sum of elements inside a list:"
      ],
      "metadata": {
        "id": "JaO-CNwFpxhf"
      }
    },
    {
      "cell_type": "code",
      "source": [
        "l = [x for x in range(1,4)]\n",
        "sum(l[::])  "
      ],
      "metadata": {
        "id": "Bvg0JbCsp12b",
        "colab": {
          "base_uri": "https://localhost:8080/"
        },
        "outputId": "ef64be1f-991d-435e-ffcb-1e6f5ebd783a"
      },
      "execution_count": null,
      "outputs": [
        {
          "output_type": "execute_result",
          "data": {
            "text/plain": [
              "6"
            ]
          },
          "metadata": {},
          "execution_count": 11
        }
      ]
    },
    {
      "cell_type": "markdown",
      "source": [
        "# insert to a given index:"
      ],
      "metadata": {
        "id": "HJh-UljUp_Jh"
      }
    },
    {
      "cell_type": "code",
      "source": [
        "l.insert(0, \"zero\")"
      ],
      "metadata": {
        "id": "BKSqVD4xqD_M"
      },
      "execution_count": null,
      "outputs": []
    },
    {
      "cell_type": "code",
      "source": [
        "l"
      ],
      "metadata": {
        "id": "r_TLReOFBStq",
        "outputId": "840d6a3a-359d-40d1-b7b5-325d55dc83ed",
        "colab": {
          "base_uri": "https://localhost:8080/"
        }
      },
      "execution_count": null,
      "outputs": [
        {
          "output_type": "execute_result",
          "data": {
            "text/plain": [
              "['zero', 1, 2, 3]"
            ]
          },
          "metadata": {},
          "execution_count": 13
        }
      ]
    },
    {
      "cell_type": "markdown",
      "source": [
        "\n",
        "<font  color=\"white\"> <b> Question 1</b><br/>\n",
        " Dot product of vectors\n",
        "Vectors are mathematical objects that are often used to represent the inputs to neural networks. One way to view the vectors is as list of items. Complete the following code to compute dot product of two vectors. Dot product is defined the following equation:-\n",
        "</font>\n",
        "\n",
        "$$\n",
        "x.y = <x, y> = x^Ty = \\sum_{i}^n x_iy_i\n",
        "$$\n",
        "\n",
        "<font  color=\"white\"> \n",
        "Assume that only lists are passed to the function and they also contain only numeric datatype.\n",
        "\n",
        "</font>"
      ],
      "metadata": {
        "id": "T7mVgOColKXn"
      }
    },
    {
      "cell_type": "code",
      "source": [
        "def dot_prod(vec_1, vec_2):\n",
        "  \"\"\"\n",
        "  Computer dot product of two vectors. The vectors are list of numbers\n",
        "  and have same length, i.e len(vec_1) == len(vec_2). \n",
        "  Parameters\n",
        "  ----------\n",
        "  vec_1 : list\n",
        "    The first vector\n",
        "  vec_2: list\n",
        "    The second vector\n",
        "  Returns\n",
        "  -------\n",
        "  float\n",
        "    The dot product of the vec_1 and vec_2\n",
        "\n",
        "  Examples\n",
        "  --------\n",
        "  >>> dot_prod([1, 2], [3, 4])\n",
        "  11\n",
        "  >>> dot_prod([1, 3, 4], [0, 1, 0])\n",
        "  3\n",
        "  \"\"\"\n",
        "\n",
        "  output = 0\n",
        "  ##### WRITE YOUR CODE HERE #####\n",
        "  # l = len(vec_1)\n",
        "  # for i in  range(l):\n",
        "  #   output += vec_1[i] * vec_2[i]\n",
        "  output=sum([i*j for i,j in zip(vec_1,vec_2)])\n",
        "    \n",
        "\n",
        "\n",
        "          \n",
        "  #### END CODE ####\n",
        "  return output\n",
        "  \n"
      ],
      "metadata": {
        "id": "dLwrUkjupiO_"
      },
      "execution_count": null,
      "outputs": []
    },
    {
      "cell_type": "code",
      "source": [
        "dot_prod([1, 2, 3], [6, 8, 0])"
      ],
      "metadata": {
        "id": "oEDqaTFrqhA7",
        "colab": {
          "base_uri": "https://localhost:8080/"
        },
        "outputId": "a2e5f8a4-794c-4621-da7d-c007b6f5cd70"
      },
      "execution_count": null,
      "outputs": [
        {
          "output_type": "execute_result",
          "data": {
            "text/plain": [
              "22"
            ]
          },
          "metadata": {},
          "execution_count": 17
        }
      ]
    },
    {
      "cell_type": "markdown",
      "source": [
        "<font  color=\"white\"> <b> Question 2</b><br/>\n",
        "Write a function to compute the squared norm of a vector. You can make the same assumption about vectors as in question 1.\n",
        "Squared norm of a vector $\\mathbf{x}$ is give by the following equation\n",
        "</font>\n",
        "$$\n",
        "  \\left|\\mathbf{x}\\right|^2 = \\sum_i^n x_i^2\n",
        "$$\n",
        "<font  color=\"white\">\n",
        "You are allowed to use the `dot_prod` function you defined above.\n",
        "</font>"
      ],
      "metadata": {
        "id": "wSIMtNvvqr5O"
      }
    },
    {
      "cell_type": "code",
      "source": [
        "def squared_norm(vec):\n",
        "  \"\"\"\n",
        "  Compute the squared norm of vector. \n",
        "  Parameters\n",
        "  ----------\n",
        "  vec : list\n",
        "    The vector\n",
        "  \n",
        "  Returns\n",
        "  -------\n",
        "  float\n",
        "    The squared norm of the vector\n",
        "\n",
        "  Examples\n",
        "  --------\n",
        "  >>> squared_norm([1, 2])\n",
        "  5\n",
        "  >>> squared_norm([1, 3, 4])\n",
        "  26\n",
        "  \"\"\"\n",
        "\n",
        "  \n",
        "  ##### WRITE YOUR CODE HERE #####\n",
        "  # k=sum([i**2 for i in vec])\n",
        "  # return k\n",
        "  for i in range(len(vec)):\n",
        "    return dot_prod(vec,vec)\n",
        "\n",
        "  #### END CODE ####"
      ],
      "metadata": {
        "id": "FC1kGGAsqnx3"
      },
      "execution_count": null,
      "outputs": []
    },
    {
      "cell_type": "code",
      "source": [
        "squared_norm([1, 3, 4])"
      ],
      "metadata": {
        "id": "PaAdkJbFre0M",
        "colab": {
          "base_uri": "https://localhost:8080/"
        },
        "outputId": "2fd096e5-2a38-4abb-c80a-151db203feb0"
      },
      "execution_count": null,
      "outputs": [
        {
          "output_type": "execute_result",
          "data": {
            "text/plain": [
              "26"
            ]
          },
          "metadata": {},
          "execution_count": 23
        }
      ]
    },
    {
      "cell_type": "markdown",
      "source": [
        "### Nested Lists\n",
        "Arrays in machine learning are often in high dimensional. E.g Matrix, RGB image, Video.\n",
        "\n",
        "Matrix can be represented list of rows and each row of the matrix is also another list. This is an example of nested list. \n",
        "```python\n",
        "matrix = [\n",
        "          [1, 2],\n",
        "          [3, 4]\n",
        "        ]\n",
        "```\n",
        "With nested list we can use multiple level of indexing. For example to access 3 in the above matrix we can use the following the following snipt of code.\n",
        "\n",
        "```python\n",
        "matrix[1][0]\n",
        "```\n",
        "\n",
        "Nested for loop can be used to iterate over rows and columns of each rows.\n",
        "\n",
        "```python\n",
        "for i in range(len(matrix)):\n",
        "  for j in range(len(matirx[i])):\n",
        "    print(matrix[i][j])\n",
        "```"
      ],
      "metadata": {
        "id": "XvazD88zuXD9"
      }
    },
    {
      "cell_type": "code",
      "source": [
        "matrix = [\n",
        "          [1, 2],\n",
        "          [3, 4]\n",
        "        ]\n",
        "for i in range(len(matrix)):\n",
        "  for j in range(len(matrix[i])):\n",
        "    print(matrix[i][j])"
      ],
      "metadata": {
        "colab": {
          "base_uri": "https://localhost:8080/"
        },
        "id": "CJdYFO_QKGLk",
        "outputId": "1e76d191-e597-4530-a6b4-5ee58efa90f4"
      },
      "execution_count": null,
      "outputs": [
        {
          "output_type": "stream",
          "name": "stdout",
          "text": [
            "1\n",
            "2\n",
            "3\n",
            "4\n"
          ]
        }
      ]
    },
    {
      "cell_type": "markdown",
      "source": [
        "\n",
        "### tuples\n",
        "* Similar to lists but with some difference\n",
        "* Are ordered collection of items\n",
        "* fixed size\n",
        "* Immutable"
      ],
      "metadata": {
        "id": "7t2HuRFAxcZG"
      }
    },
    {
      "cell_type": "code",
      "source": [
        "t1 = (10, 20, 30, 40) # Creating tuple\n",
        "print(\"The first element of t1 is\", t1[0]) # accessing the first element of the tuple\n",
        "\n",
        "\n",
        "t2 = (\"cat\", \"dog\")\n",
        "t3 = t1 + t2 # tuple concatenation\n",
        "print(\"t3\", t3)"
      ],
      "metadata": {
        "id": "ezvNa4tNxd6k",
        "colab": {
          "base_uri": "https://localhost:8080/"
        },
        "outputId": "bd639544-7554-421f-d3b0-37e9b246dab8"
      },
      "execution_count": null,
      "outputs": [
        {
          "output_type": "stream",
          "name": "stdout",
          "text": [
            "The first element of t1 is 10\n",
            "t3 (10, 20, 30, 40, 'cat', 'dog')\n"
          ]
        }
      ]
    },
    {
      "cell_type": "markdown",
      "source": [
        "### Tuples are imutable:"
      ],
      "metadata": {
        "id": "F2bp-QWmzX4Q"
      }
    },
    {
      "cell_type": "code",
      "source": [
        "mytuple = (1, 2, 3)\n",
        "mytuple[0] = 999"
      ],
      "metadata": {
        "id": "_3pRXOhfzTK-",
        "colab": {
          "base_uri": "https://localhost:8080/",
          "height": 186
        },
        "outputId": "ea780cde-43c7-440b-b711-600573c5e491"
      },
      "execution_count": null,
      "outputs": [
        {
          "output_type": "error",
          "ename": "TypeError",
          "evalue": "ignored",
          "traceback": [
            "\u001b[0;31m---------------------------------------------------------------------------\u001b[0m",
            "\u001b[0;31mTypeError\u001b[0m                                 Traceback (most recent call last)",
            "\u001b[0;32m<ipython-input-7-866a08472e1c>\u001b[0m in \u001b[0;36m<module>\u001b[0;34m()\u001b[0m\n\u001b[1;32m      1\u001b[0m \u001b[0mmytuple\u001b[0m \u001b[0;34m=\u001b[0m \u001b[0;34m(\u001b[0m\u001b[0;36m1\u001b[0m\u001b[0;34m,\u001b[0m \u001b[0;36m2\u001b[0m\u001b[0;34m,\u001b[0m \u001b[0;36m3\u001b[0m\u001b[0;34m)\u001b[0m\u001b[0;34m\u001b[0m\u001b[0;34m\u001b[0m\u001b[0m\n\u001b[0;32m----> 2\u001b[0;31m \u001b[0mmytuple\u001b[0m\u001b[0;34m[\u001b[0m\u001b[0;36m0\u001b[0m\u001b[0;34m]\u001b[0m \u001b[0;34m=\u001b[0m \u001b[0;36m999\u001b[0m\u001b[0;34m\u001b[0m\u001b[0;34m\u001b[0m\u001b[0m\n\u001b[0m",
            "\u001b[0;31mTypeError\u001b[0m: 'tuple' object does not support item assignment"
          ]
        }
      ]
    },
    {
      "cell_type": "code",
      "source": [
        ""
      ],
      "metadata": {
        "id": "_7otqKkMLDnV"
      },
      "execution_count": null,
      "outputs": []
    },
    {
      "cell_type": "markdown",
      "source": [
        "#### Type conversion\n",
        "Lists and tuples are ordered items. Conversion from one to another is possible.\n",
        "\n",
        "```python\n",
        "l1 = [1, 2, 3]\n",
        "t1 = tuple(l1) # Convert list to tuple\n",
        "t2 = [2, 4, 1]\n",
        "l2 = list(t2) # Conver to tuple\n",
        "\n",
        "```"
      ],
      "metadata": {
        "id": "c5U1mN_SxlRv"
      }
    },
    {
      "cell_type": "markdown",
      "source": [
        "## Sets\n",
        "* Are Unordered collection of items\n",
        "* They are mutable\n",
        "* The elements of set are unique(No duplication)"
      ],
      "metadata": {
        "id": "nKCl1Wyrzwkn"
      }
    },
    {
      "cell_type": "markdown",
      "source": [
        "There are alot of ways to create a set in python:"
      ],
      "metadata": {
        "id": "vBOuPnkPz_AL"
      }
    },
    {
      "cell_type": "code",
      "source": [
        "s1 = set() # Creating empty sets\n",
        "print(\"s1\", s1)\n",
        "s2 = set([1, 3, 4])\n",
        "print(\"s2\", s2)\n",
        "s3 = {1, 3, 4} \n",
        "print(\"s3\",s3)\n",
        "s4 = set((1, 3, 4))\n",
        "print(\"s4\", s4)"
      ],
      "metadata": {
        "id": "_92ci8Jxzz2Y"
      },
      "execution_count": null,
      "outputs": []
    },
    {
      "cell_type": "markdown",
      "source": [
        "## Set operations"
      ],
      "metadata": {
        "id": "hs3fnawn2N4J"
      }
    },
    {
      "cell_type": "code",
      "source": [
        "s5 = {1, 3, 4} \n",
        "s5.add(5)\n",
        "s5"
      ],
      "metadata": {
        "id": "l5Dvun5j2PBg",
        "colab": {
          "base_uri": "https://localhost:8080/"
        },
        "outputId": "ace527fd-c18f-443d-e9f6-1762c04271e0"
      },
      "execution_count": null,
      "outputs": [
        {
          "output_type": "execute_result",
          "data": {
            "text/plain": [
              "{1, 3, 4, 5}"
            ]
          },
          "metadata": {},
          "execution_count": 98
        }
      ]
    },
    {
      "cell_type": "code",
      "source": [
        "dir(s3)"
      ],
      "metadata": {
        "id": "Trlq-AYf2bqU"
      },
      "execution_count": null,
      "outputs": []
    },
    {
      "cell_type": "code",
      "source": [
        "# Create a set \n",
        "\n",
        "A = [3,3,2,4]\n",
        "B = [2,5,8]\n",
        "\n",
        "print(set(A))\n",
        "print(set(B))"
      ],
      "metadata": {
        "id": "jw5GOsOR2qv5"
      },
      "execution_count": null,
      "outputs": []
    },
    {
      "cell_type": "code",
      "source": [
        "A = set([1, 2, 3, 5])\n",
        "B = set([2, 3, 6, 4, 8])\n",
        "A"
      ],
      "metadata": {
        "id": "tQ9VigBG28i3",
        "colab": {
          "base_uri": "https://localhost:8080/"
        },
        "outputId": "e2c680b7-53d1-44e4-f431-ac3e44b14125"
      },
      "execution_count": null,
      "outputs": [
        {
          "output_type": "execute_result",
          "data": {
            "text/plain": [
              "{1, 2, 3, 5}"
            ]
          },
          "metadata": {},
          "execution_count": 97
        }
      ]
    },
    {
      "cell_type": "markdown",
      "source": [
        "## Union"
      ],
      "metadata": {
        "id": "kMvKyo4w3Oo1"
      }
    },
    {
      "cell_type": "code",
      "source": [
        "print(\"A v B = {}\".format(A | B))"
      ],
      "metadata": {
        "id": "ymxm1ogt3OSu",
        "colab": {
          "base_uri": "https://localhost:8080/"
        },
        "outputId": "54ea09ce-6515-465b-e9c1-8042925540c3"
      },
      "execution_count": null,
      "outputs": [
        {
          "output_type": "stream",
          "name": "stdout",
          "text": [
            "A v B = {1, 2, 3, 4, 5, 6, 8}\n"
          ]
        }
      ]
    },
    {
      "cell_type": "markdown",
      "source": [
        "## Intersection"
      ],
      "metadata": {
        "id": "TQTpzoHs3Vj0"
      }
    },
    {
      "cell_type": "code",
      "source": [
        "print(\"A n B = {}\".format(A & B)) "
      ],
      "metadata": {
        "id": "e_JOs3we3ZBY",
        "colab": {
          "base_uri": "https://localhost:8080/"
        },
        "outputId": "f81ce1b6-e05d-4933-a67c-796e7978757e"
      },
      "execution_count": null,
      "outputs": [
        {
          "output_type": "stream",
          "name": "stdout",
          "text": [
            "A n B = {2, 3}\n"
          ]
        }
      ]
    },
    {
      "cell_type": "markdown",
      "source": [
        "## relative complement"
      ],
      "metadata": {
        "id": "7_m90Uhw3cbb"
      }
    },
    {
      "cell_type": "code",
      "source": [
        "print(\"A / B = {}\".format(A - B)) "
      ],
      "metadata": {
        "id": "n8JToDlc3a08",
        "colab": {
          "base_uri": "https://localhost:8080/"
        },
        "outputId": "0119727d-b907-418b-964a-45be1a9fee9f"
      },
      "execution_count": null,
      "outputs": [
        {
          "output_type": "stream",
          "name": "stdout",
          "text": [
            "A / B = {1, 5}\n"
          ]
        }
      ]
    },
    {
      "cell_type": "code",
      "source": [
        "print(\"B / A = {}\".format(B - A)) "
      ],
      "metadata": {
        "id": "iadPsjJ22_SY",
        "colab": {
          "base_uri": "https://localhost:8080/"
        },
        "outputId": "204665af-e0f3-4e84-d943-1405bb6a7cd3"
      },
      "execution_count": null,
      "outputs": [
        {
          "output_type": "stream",
          "name": "stdout",
          "text": [
            "B / A = {8, 4, 6}\n"
          ]
        }
      ]
    },
    {
      "cell_type": "code",
      "source": [
        "s6 = {1, 3, 4,6,8}\n",
        "s7 = {2, 3, 4,6,8} \n",
        "s6.difference(s7)"
      ],
      "metadata": {
        "id": "WDRqRlzf3r6p",
        "colab": {
          "base_uri": "https://localhost:8080/"
        },
        "outputId": "9c4926ef-004e-4411-fbde-e82666d39b49"
      },
      "execution_count": null,
      "outputs": [
        {
          "output_type": "execute_result",
          "data": {
            "text/plain": [
              "{1}"
            ]
          },
          "metadata": {},
          "execution_count": 15
        }
      ]
    },
    {
      "cell_type": "markdown",
      "source": [
        "## Dictionaries\n",
        "\n",
        "* Collection of key, value pairs\n",
        "* A key is unique, but value could be diplicate.\n",
        "* Keys should be hashable.\n",
        "* More on Dictionaries [here](https://realpython.com/python-dicts/)"
      ],
      "metadata": {
        "id": "Sc5nMlgM5ENT"
      }
    },
    {
      "cell_type": "code",
      "source": [
        "d1 = {} # Creating empyt dictionary\n",
        "print(\"d1\", d1)\n",
        "d2 = dict() # Another way to create empty dictionary\n",
        "print(\"d2\", d2)\n",
        "d3 = {\"one\":1, \"two\":2, \"three\":3} # Creating dictionary with elements\n",
        "print(\"d3\", d3)\n",
        "d4 = dict(one=1, two=2, three=3) # The same as d3 but different intialization\n",
        "print(\"d4\", d4)\n",
        "d5 = dict([(\"one\", 1), (\"two\", 2), (\"three\", 3)]) # The same as d3 but different intialization\n",
        "print(\"d5\", d5)"
      ],
      "metadata": {
        "id": "855u7H7H5F0E",
        "colab": {
          "base_uri": "https://localhost:8080/"
        },
        "outputId": "e2a500d5-8670-4fa4-85dd-b10e546a739f"
      },
      "execution_count": null,
      "outputs": [
        {
          "output_type": "stream",
          "name": "stdout",
          "text": [
            "d1 {}\n",
            "d2 {}\n",
            "d3 {'one': 1, 'two': 2, 'three': 3}\n",
            "d4 {'one': 1, 'two': 2, 'three': 3}\n",
            "d5 {'one': 1, 'two': 2, 'three': 3}\n"
          ]
        }
      ]
    },
    {
      "cell_type": "code",
      "source": [
        "def add_2(l):\n",
        "  return {l[i]:l[i] + 2 for i in range(len(l))}"
      ],
      "metadata": {
        "id": "I4wwxX8s5MzE"
      },
      "execution_count": null,
      "outputs": []
    },
    {
      "cell_type": "code",
      "source": [
        "l1=[1,2,3,4]\n",
        "l=add_2(l1)\n",
        "l"
      ],
      "metadata": {
        "colab": {
          "base_uri": "https://localhost:8080/"
        },
        "id": "WNR45ZJ7NR3v",
        "outputId": "ad06bd6a-1184-4cfe-bb05-314aba204c0f"
      },
      "execution_count": null,
      "outputs": [
        {
          "output_type": "execute_result",
          "data": {
            "text/plain": [
              "{1: 3, 2: 4, 3: 5, 4: 6}"
            ]
          },
          "metadata": {},
          "execution_count": 53
        }
      ]
    },
    {
      "cell_type": "markdown",
      "source": [
        "## Stacks\n",
        "\n",
        "* Python doesn't provide stack builtin implementations\n",
        "* Last In First Out ADT\n",
        "* Have the following operations\n",
        "  * Push: adds an element on top of the stack\n",
        "  * Pop: removes an element from the top of the stack<br/>\n",
        "  * empty: Checks if the stack is empty\n",
        "  <b>Optionally</b>\n",
        "  * Peek: To see the top elements\n",
        "  * Size: Retrieves the number of elements of the stack\n",
        "\n",
        "\n",
        "\n",
        "\n",
        "### Implementing stacks with list\n",
        "* `append()` method of list for push operation\n",
        "* `pop()` method of list for pop operation\n",
        "* indexing with last index for peek operation\n",
        "* list.__len__() == 0 for empty operation \n",
        "* list.__len__() for size operation"
      ],
      "metadata": {
        "id": "pQxtWp-65a-b"
      }
    },
    {
      "cell_type": "code",
      "source": [
        "stack = list()\n",
        "stack.append(\"AMMI\") # Push operation\n",
        "element = stack.pop() # Pop operation\n",
        "print(\"element\", element)\n",
        "print(\"Is empty: \", len(stack)==0) # Empty operation\n",
        "print(\"Size\", len(stack))"
      ],
      "metadata": {
        "id": "_smiO5535nJQ",
        "colab": {
          "base_uri": "https://localhost:8080/"
        },
        "outputId": "c785e49d-264f-4c46-aafb-df19c0dc5fb8"
      },
      "execution_count": null,
      "outputs": [
        {
          "output_type": "stream",
          "name": "stdout",
          "text": [
            "element AMMI\n",
            "Is empty:  True\n",
            "Size 0\n"
          ]
        }
      ]
    },
    {
      "cell_type": "code",
      "source": [
        "l=[1,2,3,4,6,7]\n",
        "len(l)==6"
      ],
      "metadata": {
        "colab": {
          "base_uri": "https://localhost:8080/"
        },
        "id": "x4JHnjkaPbLB",
        "outputId": "c748f793-6809-4a9c-be27-25b6e6938c8e"
      },
      "execution_count": null,
      "outputs": [
        {
          "output_type": "execute_result",
          "data": {
            "text/plain": [
              "True"
            ]
          },
          "metadata": {},
          "execution_count": 67
        }
      ]
    },
    {
      "cell_type": "code",
      "source": [
        "#dir(stack)"
      ],
      "metadata": {
        "id": "Cwy7HEgBOZNy"
      },
      "execution_count": null,
      "outputs": []
    },
    {
      "cell_type": "markdown",
      "source": [
        "## Queues\n",
        "* Similar to stack\n",
        "* First In First Out(FIFO) ADT\n",
        "* Python provides [deque objects](https://docs.python.org/3/library/collections.html#collections.defaultdict), to implement queue\n",
        "\n"
      ],
      "metadata": {
        "id": "dXMcoBtI59sJ"
      }
    },
    {
      "cell_type": "markdown",
      "source": [
        "## Linked Lists\n",
        "\n",
        "* Another implementation of List ADT\n",
        "* Each element has reference to next element(which could be for tail)\n",
        "* Have two properties, head node and tail node\n",
        "\n",
        "\n",
        "<img src=\"https://upload.wikimedia.org/wikipedia/commons/b/bf/Linked_list_data_format.jpg\"/><br/>\n",
        "<b>fig src:[https://upload.wikimedia.org/wikipedia/commons/b/bf/Linked_list_data_format.jpg](https://upload.wikimedia.org/wikipedia/commons/b/bf/Linked_list_data_format.jpg)</b>"
      ],
      "metadata": {
        "id": "f11Gc_0dA9-3"
      }
    },
    {
      "cell_type": "markdown",
      "source": [
        "### Linked List - Node\n",
        "* Each element in linked list\n",
        "* Has two properties\n",
        "  * Value\n",
        "  * Next \n",
        "\n",
        "  "
      ],
      "metadata": {
        "id": "6P236NR3BCL6"
      }
    },
    {
      "cell_type": "markdown",
      "source": [
        "# Assignment:"
      ],
      "metadata": {
        "id": "2ETmV9dFYJt_"
      }
    },
    {
      "cell_type": "markdown",
      "source": [
        "#<font  color=\"white\"> <b>\n",
        " Question 1\n",
        "\n",
        "Create a function to add two matrix defined by nested list. Assume both matrices have the same number of rows and columns.\n"
      ],
      "metadata": {
        "id": "JerpDlB6YeIY"
      }
    },
    {
      "cell_type": "code",
      "source": [
        "def add_matrix(matrix_1, matrix_2):\n",
        "  \"\"\"\n",
        "  Adds two matrix\n",
        "  Parameters\n",
        "  ----------\n",
        "  matrix_1 : list\n",
        "    A matrix defined by nested list \n",
        "  matrix_2 : list\n",
        "    A matrix defined by nested list \n",
        "  Returns\n",
        "  -------\n",
        "  list\n",
        "    A matrix, sum of the two matrices.\n",
        "\n",
        "  Examplesfor r in output:for r in output:for r in output:\n",
        "    \n",
        "  >>> add_matrix([[1, 2], [2, 3]], [[4, 1], [5, 0]])\n",
        "  [[5, 3], [7, 3]]\n",
        "\n",
        "  \"\"\"\n",
        "  output = None\n",
        "  ##### WRITE YOUR CODE HERE #####\n",
        "  output = [[matrix_1[i][j] + matrix_2[i][j]  for j in range(len(matrix_1[0]))] for i in range(len(matrix_1))]\n",
        "\n",
        "  #### END CODE ####\n",
        "\n",
        "  \n",
        "  return output;"
      ],
      "metadata": {
        "id": "MY20rhS7YnFq"
      },
      "execution_count": null,
      "outputs": []
    },
    {
      "cell_type": "code",
      "source": [
        "a=add_matrix([[1, 2], [2, 3]], [[4, 1], [5, 0]])\n",
        "a"
      ],
      "metadata": {
        "colab": {
          "base_uri": "https://localhost:8080/"
        },
        "id": "Jl5njOr0Tt-T",
        "outputId": "fa393429-31fc-4247-8a95-8098f273675a"
      },
      "execution_count": null,
      "outputs": [
        {
          "output_type": "execute_result",
          "data": {
            "text/plain": [
              "[[5, 3], [7, 3]]"
            ]
          },
          "metadata": {},
          "execution_count": 69
        }
      ]
    },
    {
      "cell_type": "markdown",
      "source": [
        "#<font  color=\"white\"> <b>\n",
        "\n",
        " Question 2\n",
        "\n",
        "Let's now use tuples to represent vectors. It would be even very convenient to use tuples than list to create vectors becuase basically vectors are fixed length. \n",
        "\n",
        "\n",
        "Create function to add to vectors. The addition of two vectors is given by the following equation.\n",
        "\n",
        "\n",
        "$$\n",
        "  z_i = (\\mathbf{x} + \\mathbf{y})_i = x_i + y_i \n",
        "$$"
      ],
      "metadata": {
        "id": "f3TPpD7vYoik"
      }
    },
    {
      "cell_type": "code",
      "source": [
        "def add_vectors(vec_1, vec_2):\n",
        "  \"\"\"\n",
        "  Computer addition of two vectors. The vectors are tuples of numbers\n",
        "  and have same length, i.e len(vec_1) == len(vec_2). \n",
        "  Parameters\n",
        "  ----------\n",
        "  vec_1 : tuple\n",
        "    The first vector\n",
        "  vec_2: tuple\n",
        "    The second vector\n",
        "  Returns\n",
        "  -------\n",
        "  tuple\n",
        "    The summition of the vec_1 and vec_2\n",
        "\n",
        "  Examples\n",
        "  --------\n",
        "  >>> add_vectors([1, 2], [3, 4])\n",
        "  [4, 6]\n",
        "  >>> add_vectors([1, 3, 4], [0, 1, 0])\n",
        "  [1, 4, 4]\n",
        "  \"\"\"\n",
        "\n",
        "  output = None\n",
        "  ##### WRITE YOUR CODE HERE #####\n",
        "  output=[a+b for a,b in zip(vec_1,vec_2)]\n",
        "  \n",
        "\n",
        "  #### END CODE ####\n",
        "\n",
        "  \n",
        "  return output;\n",
        " "
      ],
      "metadata": {
        "id": "inTkZuuwYoLl"
      },
      "execution_count": null,
      "outputs": []
    },
    {
      "cell_type": "code",
      "source": [
        "a=add_vectors([1, 3, 4], [0, 1, 0])\n",
        "a"
      ],
      "metadata": {
        "colab": {
          "base_uri": "https://localhost:8080/"
        },
        "id": "SAmuP97kVoJq",
        "outputId": "ee8813ca-5462-4f9a-8388-4f7647f084ab"
      },
      "execution_count": null,
      "outputs": [
        {
          "output_type": "execute_result",
          "data": {
            "text/plain": [
              "[1, 4, 4]"
            ]
          },
          "metadata": {},
          "execution_count": 83
        }
      ]
    },
    {
      "cell_type": "markdown",
      "source": [
        "#<font  color=\"white\"> <b> \n",
        "\n",
        "Question 3\n",
        "\n",
        "Write a function to find the elements of two sets that are in only in one of the sets. Using loop is not allowed. Use only operation on set. \n"
      ],
      "metadata": {
        "id": "kyfuvt7ZY7zN"
      }
    },
    {
      "cell_type": "code",
      "source": [
        "def intersection_complement(set_a, set_b):\n",
        "  \"\"\"\n",
        "  Find set of items that are only in one of the sets.\n",
        "  Parameters\n",
        "  ----------\n",
        "  set_a : set\n",
        "    A set with elements zero ore more\n",
        "  set_b : set\n",
        "    A set with elements zero ore more\n",
        "  \n",
        "  \n",
        "  Returns\n",
        "  -------\n",
        "  set\n",
        "    Set containing elements which are in only one of the sets\n",
        "\n",
        "  Examples\n",
        "  --------\n",
        "  >>> intersection_complement({1, 2, 3}, {3, 4, 6})\n",
        "  {1, 2, 4, 6}\n",
        "  >>> intersection_complement(set(), {3, 4, 6})\n",
        "  {3, 4, 6}\n",
        "  \"\"\"\n",
        "\n",
        "  output = None\n",
        "  ##### WRITE YOUR CODE HERE #####\n",
        "\n",
        "    \n",
        "\n",
        "  #### END CODE ####\n",
        "\n",
        "  \n",
        "  return output"
      ],
      "metadata": {
        "id": "_RpdjPYaY8g1"
      },
      "execution_count": null,
      "outputs": []
    },
    {
      "cell_type": "markdown",
      "source": [
        "#<font  color=\"white\"> <b> \n",
        "\n",
        "Question 4\n",
        "\n",
        "Implement the Stack data structure and its methods using a class named Stack\n",
        "- pop\n",
        "- add\n",
        "- empty\n",
        "- top\n",
        "\n"
      ],
      "metadata": {
        "id": "T0Z7gHRIZGXx"
      }
    },
    {
      "cell_type": "markdown",
      "source": [
        "#<font  color=\"white\"> <b> \n",
        "\n",
        "Question 5\n",
        "\n",
        "\n",
        "Implement the Queue data structure and its methods using a class named Queue (hint: use deque method.)\n",
        "\n"
      ],
      "metadata": {
        "id": "63dVLkGjZK21"
      }
    },
    {
      "cell_type": "markdown",
      "source": [
        "#<font  color=\"white\"> <b> \n",
        "Question 6\n",
        "\n",
        "Implement Linked List class and its methods:\n",
        "- insert_at_start\n",
        "- insert\n",
        "- insert_at_end\n",
        "- display\n",
        "- delete\n",
        "\n",
        "</font>\n"
      ],
      "metadata": {
        "id": "7dk131pRZPEa"
      }
    },
    {
      "cell_type": "markdown",
      "source": [
        "#<font  color=\"white\"> <b>\n",
        "\n",
        " Question 7\n",
        "\n",
        "we have'(', ')', '{', '}', '[' and ']', determine if the input string is valid.\n",
        "The String is valid if and only if: \\\\\n",
        "bracket must be closed by the same type of brackets. \\\\\n",
        "brackets must be closed in the correct order.\n",
        "\n",
        "(Try your fuction with different test cases.)\n"
      ],
      "metadata": {
        "id": "Up6j0vgmZbYl"
      }
    },
    {
      "cell_type": "markdown",
      "source": [
        "#<font  color=\"white\"> <b> \n",
        "Question 8. \n",
        "\n",
        "Write a Python program to get the largest number from a list. \\\\\n",
        "Sample List : [14, 23, 33, 34, 542, 234, 4, 10] \\\\\n",
        "Expected Result : 542\n"
      ],
      "metadata": {
        "id": "M8JuqBkzPkNF"
      }
    },
    {
      "cell_type": "code",
      "source": [
        "List= [14, 23, 33, 34, 542, 234, 4, 10]\n",
        "def Largest(List):\n",
        "    number = List[0]\n",
        "    for i in List:\n",
        "        if i > number:\n",
        "            number = i\n",
        "    return number\n",
        "print(Largest(List))"
      ],
      "metadata": {
        "colab": {
          "base_uri": "https://localhost:8080/"
        },
        "id": "tRX9Q-IrYxyQ",
        "outputId": "be70db37-03d1-481a-fd99-c3437773c534"
      },
      "execution_count": null,
      "outputs": [
        {
          "output_type": "stream",
          "name": "stdout",
          "text": [
            "542\n"
          ]
        }
      ]
    },
    {
      "cell_type": "code",
      "source": [
        "help('keywords')"
      ],
      "metadata": {
        "colab": {
          "base_uri": "https://localhost:8080/"
        },
        "id": "h8nloqs5hhM4",
        "outputId": "4fa571c3-4590-49b0-b754-9e7c6df66d76"
      },
      "execution_count": null,
      "outputs": [
        {
          "output_type": "stream",
          "name": "stdout",
          "text": [
            "\n",
            "Here is a list of the Python keywords.  Enter any keyword to get more help.\n",
            "\n",
            "False               class               from                or\n",
            "None                continue            global              pass\n",
            "True                def                 if                  raise\n",
            "and                 del                 import              return\n",
            "as                  elif                in                  try\n",
            "assert              else                is                  while\n",
            "async               except              lambda              with\n",
            "await               finally             nonlocal            yield\n",
            "break               for                 not                 \n",
            "\n"
          ]
        }
      ]
    },
    {
      "cell_type": "markdown",
      "source": [
        "#<font  color=\"white\"> <b> \n",
        "Question 9\n",
        "\n",
        "Write a Python program to remove duplicates from a list. \\\\\n",
        "Sample List : [4, aba, 3, room, aba, 33, 4, room] \\\\\n",
        "Expected Result : [4, aba, 3, room, 33]\n"
      ],
      "metadata": {
        "id": "aKo7kOhuQVEk"
      }
    },
    {
      "cell_type": "code",
      "source": [
        "List =[4, 'aba', 3, 'room', 'aba', 33, 4, 'room']\n",
        "L=[]\n",
        "for i in List:\n",
        "    if i not in L:\n",
        "        L.append(i) \n",
        "print(L)      "
      ],
      "metadata": {
        "colab": {
          "base_uri": "https://localhost:8080/"
        },
        "id": "iFIqLPGXbNlW",
        "outputId": "ee27988f-88ed-4e54-91a6-c652b28b16e4"
      },
      "execution_count": null,
      "outputs": [
        {
          "output_type": "stream",
          "name": "stdout",
          "text": [
            "[4, 'aba', 3, 'room', 33]\n"
          ]
        }
      ]
    },
    {
      "cell_type": "markdown",
      "source": [
        "#<font  color=\"white\"> <b>\n",
        "\n",
        " Question 10\n",
        "\n",
        "Write a Python program to check if a set is a subset of another set.\n"
      ],
      "metadata": {
        "id": "d30N9rsWSHPJ"
      }
    },
    {
      "cell_type": "code",
      "source": [
        "def Set(a,b):\n",
        "  for i in range(len(a)):\n",
        "    if len(a)> len(b):\n",
        "      \n"
      ],
      "metadata": {
        "id": "vpeZWY0OksMz"
      },
      "execution_count": null,
      "outputs": []
    },
    {
      "cell_type": "markdown",
      "source": [
        "#<font  color=\"white\"> <b> \n",
        "\n",
        "Question 11\n",
        "\n",
        "Write a Python program to check if two given sets have no elements in common.\n"
      ],
      "metadata": {
        "id": "MlFB4SpPSbp-"
      }
    },
    {
      "cell_type": "markdown",
      "source": [
        "#<font  color=\"white\"> <b>\n",
        "\n",
        " Question 12\n",
        "\n",
        "\n",
        "writ a function to determine if a given singly linked list is a palindrome or not, if it is a palindrome return True, if it's not return False.\n",
        "for example 2-->3-->3--->2 is True. \\\\\n",
        "(Try your fuction with different test cases.)\n"
      ],
      "metadata": {
        "id": "jAtYB2mBZoDX"
      }
    },
    {
      "cell_type": "markdown",
      "source": [
        "#<font  color=\"white\"> <b> \n",
        "\n",
        "Question 13\n",
        "\n",
        "writ a function to reverse a linked list. \\\\\n",
        "(Try your fuction with different test cases.)\n"
      ],
      "metadata": {
        "id": "3DsyI543ZvOY"
      }
    },
    {
      "cell_type": "markdown",
      "source": [
        "#<font  color=\"white\"> <b> \n",
        "\n",
        "Question 14\n",
        "\n",
        "Write a function to remove duplicate elements from a list. The order might be changed. Do this exercise without using loops.\n",
        "\n"
      ],
      "metadata": {
        "id": "Mk1cEZt7Z11b"
      }
    },
    {
      "cell_type": "markdown",
      "source": [
        "#<font  color=\"white\"> <b> \n",
        "Question 15\n",
        "\n",
        "create a class Matrix that supports operations/methods:\n",
        "- addition\n",
        "- subtraction\n",
        "- multiplication\n",
        "- scalar multiplication\n",
        "- transpose\n"
      ],
      "metadata": {
        "id": "M3S67CorZ9MX"
      }
    },
    {
      "cell_type": "code",
      "source": [
        ""
      ],
      "metadata": {
        "id": "PGDgcgrJS9w-"
      },
      "execution_count": null,
      "outputs": []
    }
  ]
}