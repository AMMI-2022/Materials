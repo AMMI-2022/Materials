{
  "nbformat": 4,
  "nbformat_minor": 0,
  "metadata": {
    "colab": {
      "name": "Review_Exercises.ipynb",
      "provenance": [],
      "collapsed_sections": []
    },
    "kernelspec": {
      "name": "python3",
      "display_name": "Python 3"
    },
    "language_info": {
      "name": "python"
    }
  },
  "cells": [
    {
      "cell_type": "markdown",
      "source": [
        "<img src='https://static.nexteinstein.org/themes/understrap-child/img/AIMS-Logo.png\n",
        "' />"
      ],
      "metadata": {
        "id": "OJGW8bqATXQx"
      }
    },
    {
      "cell_type": "markdown",
      "source": [
        "# **African Master's in Machine Intelligence**\n",
        "Programming Excercises\n"
      ],
      "metadata": {
        "id": "ItVH0sTJTr_l"
      }
    },
    {
      "cell_type": "markdown",
      "source": [
        "---\n",
        "---\n",
        "---"
      ],
      "metadata": {
        "id": "_mxgf3WfUDOw"
      }
    },
    {
      "cell_type": "markdown",
      "source": [
        "**Exercise - 1 :**\n",
        "\n",
        "\n",
        "\n",
        "\n",
        "\n",
        "Given an integer array nums, return true if any value appears at least twice in the array, and return false if every element is distinct.\n",
        "\n",
        "ex:\n",
        "\n",
        "[1,2,3,1] ==> True\n",
        "\n",
        "[1,2,3,4] ==> False"
      ],
      "metadata": {
        "id": "mskjX-zrTYVa"
      }
    },
    {
      "cell_type": "code",
      "source": [
        "#write your code here\n"
      ],
      "metadata": {
        "id": "rjG9aKV9JNTc"
      },
      "execution_count": null,
      "outputs": []
    },
    {
      "cell_type": "markdown",
      "source": [
        "---\n",
        "---\n",
        "---"
      ],
      "metadata": {
        "id": "x-_3rGTZUiPO"
      }
    },
    {
      "cell_type": "markdown",
      "source": [
        "**Exercise - 2 :**\n",
        "\n",
        "\n",
        "Given two strings **s** and **t**, return true if **t** is an anagram of **s**, and false otherwise.\n",
        "\n",
        "An Anagram is a word or phrase formed by rearranging the letters of a different word or phrase, typically using all the original letters exactly once.\n",
        "\n",
        "For example \"anagram\" is an anagram of \"nagaram\" \n",
        "but \"rat\" and \"car\" are not."
      ],
      "metadata": {
        "id": "wt9e9q-GGyJy"
      }
    },
    {
      "cell_type": "code",
      "execution_count": null,
      "metadata": {
        "id": "FereCUdmFlLv"
      },
      "outputs": [],
      "source": [
        "#write your code here\n"
      ]
    },
    {
      "cell_type": "markdown",
      "source": [
        "---\n",
        "---\n",
        "---"
      ],
      "metadata": {
        "id": "Eh8mSyUhV-4Z"
      }
    },
    {
      "cell_type": "markdown",
      "source": [
        "**Exercise - 3:**\n",
        "\n",
        "You are given the heads of two sorted linked lists **list1** and **list2**.\n",
        "\n",
        "Merge the two lists in a one sorted list. The list should be made by splicing together the nodes of the first two lists.\n",
        "\n",
        "Return the head of the merged linked list.\n",
        "\n",
        "ex: \n",
        "\n",
        "list1: 1 -> 3 -> 8\n",
        "\n",
        "list2: 2 -> 4 -> 5\n",
        "\n",
        "merged_list: 1 -> 2 -> 3 -> 4 -> 5 - > 8"
      ],
      "metadata": {
        "id": "FUMETKT7I4rM"
      }
    },
    {
      "cell_type": "code",
      "source": [
        "# Definition for singly-linked list.\n",
        "class ListNode:\n",
        "    def __init__(self, val=0, next=None):\n",
        "        self.val = val\n",
        "        self.next = next\n"
      ],
      "metadata": {
        "id": "42cSgj5FJIx_"
      },
      "execution_count": null,
      "outputs": []
    },
    {
      "cell_type": "code",
      "source": [
        "#write your code here\n"
      ],
      "metadata": {
        "id": "ZrUYzQbRHoz3"
      },
      "execution_count": null,
      "outputs": []
    },
    {
      "cell_type": "markdown",
      "source": [
        "---\n",
        "---\n",
        "---"
      ],
      "metadata": {
        "id": "2amSdE5mWnVm"
      }
    },
    {
      "cell_type": "markdown",
      "source": [
        "**Exercise - 4 :**\n",
        "\n",
        "You are given two non-empty linked lists **l1** and **l2** representing two non-negative integers. The digits are stored in reverse order, and each of their nodes contains a single digit. Add the two numbers and return the sum as a linked list.\n",
        "\n",
        "ex:\n",
        "\n",
        "l1 = 2 -> 4 -> 3    (243)\n",
        "\n",
        "l2 = 5 -> 6 -> 4    (564)\n",
        "\n",
        "Output: 7 -> 0 -> 8   (708)"
      ],
      "metadata": {
        "id": "nHGuTEQQKZ5B"
      }
    },
    {
      "cell_type": "code",
      "source": [
        "#write your code here\n"
      ],
      "metadata": {
        "id": "aVMzzhDsKXjR"
      },
      "execution_count": null,
      "outputs": []
    },
    {
      "cell_type": "markdown",
      "source": [
        "---\n",
        "---\n",
        "---"
      ],
      "metadata": {
        "id": "44YP8x3WWr4U"
      }
    },
    {
      "cell_type": "markdown",
      "source": [
        "\n",
        "**Exercise - 5:**\n",
        "\n",
        "\n",
        "Given two strings **s** and **t**, return true if they are equal when both are typed into empty text editors. '#' means a backspace character.\n",
        "\n",
        "Note that after backspacing an empty text, the text will continue empty.\n",
        "\n",
        "ex:\n",
        "\n",
        "s = \"ab#c\"\n",
        "\n",
        "t = \"ad#c\"\n",
        "\n",
        "Output: true\n",
        "\n",
        "Explanation: Both **s** and **t** become \"ac\"."
      ],
      "metadata": {
        "id": "XgqJn8i8NVr1"
      }
    },
    {
      "cell_type": "code",
      "source": [
        "#write your code here\n"
      ],
      "metadata": {
        "id": "V84TrukiOtP0"
      },
      "execution_count": null,
      "outputs": []
    },
    {
      "cell_type": "markdown",
      "source": [
        "---\n",
        "---\n",
        "---"
      ],
      "metadata": {
        "id": "v3A9o1uxWs8d"
      }
    },
    {
      "cell_type": "markdown",
      "source": [
        "**Exercise - 6:**\n",
        "\n",
        "Given an array **nums** containing **n** distinct numbers in the range [0, n], return the only number in the range that is missing from the array. (Use Set data structure)\n",
        "\n",
        "Input: nums = [3,0,1]\n",
        "\n",
        "\n",
        "Output: 2"
      ],
      "metadata": {
        "id": "tYjVfpDaOh6J"
      }
    },
    {
      "cell_type": "code",
      "source": [
        "#write your code here\n"
      ],
      "metadata": {
        "id": "DAjq73PSOsba"
      },
      "execution_count": null,
      "outputs": []
    },
    {
      "cell_type": "markdown",
      "source": [
        "---\n",
        "---\n",
        "---"
      ],
      "metadata": {
        "id": "QUZouEeJWt18"
      }
    },
    {
      "cell_type": "markdown",
      "source": [
        "**Exercise - 7:**\n",
        "\n",
        "Given a stream of integers and a **windowSize**, calculate the moving average of all integers in the sliding window.\n",
        "\n",
        "Implement the MovingAverage class:\n",
        "1. MovingAverage(int size) Initializes the object with the size of the window size.\n",
        "2. next(int val) Returns the moving average of the last size values of the stream.\n",
        "\n",
        "m = MovingAverage(3)\n",
        "\n",
        "m.next(1) = 1\n",
        "\n",
        "m.next(10) = (1 + 10) / 2\n",
        "\n",
        "m.next(3) = (1 + 10 + 3) / 3\n",
        "\n",
        "m.next(5) = (10 + 3 + 5) / 3"
      ],
      "metadata": {
        "id": "L7eAfllmRiHT"
      }
    },
    {
      "cell_type": "code",
      "source": [
        "#write your code here\n"
      ],
      "metadata": {
        "id": "EcGfpFadRqpD"
      },
      "execution_count": null,
      "outputs": []
    },
    {
      "cell_type": "markdown",
      "source": [
        "---\n",
        "---\n",
        "---"
      ],
      "metadata": {
        "id": "oxh1sMmOWvZH"
      }
    },
    {
      "cell_type": "markdown",
      "source": [
        "**Exercise - 8:**\n",
        "\n",
        "Write a class called Geometry with constructor that accept two numbers representing a center point **cx** and **cy**.\n",
        "\n",
        "Implement a method in the Geometry class called **Euclidean_distance(x, y)** that allow to compute a distance between any point (x, y), and the center point (cx, cy)."
      ],
      "metadata": {
        "id": "qdnJ3NdYfQgY"
      }
    },
    {
      "cell_type": "code",
      "source": [
        "#write your code here\n"
      ],
      "metadata": {
        "id": "9o4w4yD8fP4A"
      },
      "execution_count": null,
      "outputs": []
    },
    {
      "cell_type": "markdown",
      "source": [
        "---\n",
        "---\n",
        "---"
      ],
      "metadata": {
        "id": "ko7G7fSMffDb"
      }
    },
    {
      "cell_type": "markdown",
      "source": [
        "**Exercise - 9:**\n",
        "\n",
        "Given an integer **n**, return a string array **answer** (start from 1) where:\n",
        "\n",
        "answer[i] == \"FizzBuzz\" if i is divisible by 3 and 5.\n",
        "\n",
        "answer[i] == \"Fizz\" if i is divisible by 3.\n",
        "\n",
        "answer[i] == \"Buzz\" if i is divisible by 5.\n",
        "\n",
        "answer[i] == i (as a string) if none of the above conditions are true.\n",
        " "
      ],
      "metadata": {
        "id": "nZZsbbIcEuCd"
      }
    },
    {
      "cell_type": "code",
      "source": [
        "#write your code here\n"
      ],
      "metadata": {
        "id": "ycwynQxPE5TA"
      },
      "execution_count": null,
      "outputs": []
    },
    {
      "cell_type": "code",
      "source": [
        ""
      ],
      "metadata": {
        "id": "KfIbbjutfs51"
      },
      "execution_count": null,
      "outputs": []
    },
    {
      "cell_type": "markdown",
      "source": [
        "##Bonus question:"
      ],
      "metadata": {
        "id": "mC2k7vX1mie-"
      }
    },
    {
      "cell_type": "markdown",
      "source": [
        "Given an integer **numRows**, return the first numRows of Pascal's triangle.\n",
        "\n",
        "In Pascal's triangle, each number is the sum of the two numbers directly above it\n",
        "\n",
        "https://en.wikipedia.org/wiki/Pascal%27s_triangle"
      ],
      "metadata": {
        "id": "sKOKGMQXmtgy"
      }
    },
    {
      "cell_type": "code",
      "source": [
        ""
      ],
      "metadata": {
        "id": "-LqUWuksmsFr"
      },
      "execution_count": null,
      "outputs": []
    }
  ]
}